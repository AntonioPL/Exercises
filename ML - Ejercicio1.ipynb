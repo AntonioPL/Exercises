{
 "cells": [
  {
   "cell_type": "markdown",
   "metadata": {},
   "source": [
    "## 1. Reglas de asociación"
   ]
  },
  {
   "cell_type": "markdown",
   "metadata": {},
   "source": [
    "### En el “groceries.csv” contiene las transacciones recogidas durante un mes en una tienda de comestibles. En cada una de las ﬁlas de este archivo se encuentran los artículos comprados de forma conjunta por los diferentes clientes. Obtener las lista de artículos que tiene un soporte mínimo de 0,15. Obtener también las reglas de asociación que se pueden deducir de este conjunto de datos con un soporte mínimo de 0,05 y conﬁanza de 0,25"
   ]
  },
  {
   "cell_type": "code",
   "execution_count": 1,
   "metadata": {
    "collapsed": true
   },
   "outputs": [],
   "source": [
    "import numpy as np\n",
    "import matplotlib.pyplot as plt\n",
    "from sklearn.linear_model import SGDClassifier\n",
    "from sklearn.datasets.samples_generator import make_blobs"
   ]
  },
  {
   "cell_type": "code",
   "execution_count": 2,
   "metadata": {
    "collapsed": true
   },
   "outputs": [],
   "source": [
    "import sklearn"
   ]
  },
  {
   "cell_type": "code",
   "execution_count": 3,
   "metadata": {
    "collapsed": false
   },
   "outputs": [],
   "source": [
    "import csv\n",
    "groceries = []\n",
    "groceries_file = csv.reader(open(\"groceries.csv\", \"rb\"))\n",
    "for row in groceries_file:\n",
    "    groceries.append(row)"
   ]
  },
  {
   "cell_type": "code",
   "execution_count": 4,
   "metadata": {
    "collapsed": false
   },
   "outputs": [
    {
     "name": "stdout",
     "output_type": "stream",
     "text": [
      "[['citrus fruit', 'semi-finished bread', 'margarine', 'ready soups'], ['tropical fruit', 'yogurt', 'coffee']]\n"
     ]
    }
   ],
   "source": [
    "print groceries[0:2]"
   ]
  },
  {
   "cell_type": "code",
   "execution_count": 5,
   "metadata": {
    "collapsed": false
   },
   "outputs": [],
   "source": [
    "import apriori"
   ]
  },
  {
   "cell_type": "code",
   "execution_count": 6,
   "metadata": {
    "collapsed": false
   },
   "outputs": [
    {
     "name": "stdout",
     "output_type": "stream",
     "text": [
      "{soda}:  sup = 0.174\n",
      "{whole milk}:  sup = 0.256\n",
      "{other vegetables}:  sup = 0.193\n",
      "{rolls/buns}:  sup = 0.184\n"
     ]
    }
   ],
   "source": [
    "F_015, soporte = apriori.apriori(groceries, min_support=0.15, verbose=True) # support with 0.15"
   ]
  },
  {
   "cell_type": "code",
   "execution_count": 7,
   "metadata": {
    "collapsed": false
   },
   "outputs": [
    {
     "name": "stdout",
     "output_type": "stream",
     "text": [
      "{citrus fruit}:  sup = 0.083\n",
      "{curd}:  sup = 0.053\n",
      "{root vegetables}:  sup = 0.109\n",
      "{shopping bags}:  sup = 0.099\n",
      "{bottled beer}:  sup = 0.081\n",
      "{butter}:  sup = 0.055\n",
      "{newspapers}:  sup = 0.08\n",
      "{napkins}:  sup = 0.052\n",
      "{pip fruit}:  sup = 0.076\n",
      "{domestic eggs}:  sup = 0.063\n",
      "{bottled water}:  sup = 0.111\n",
      "{tropical fruit}:  sup = 0.105\n",
      "{soda}:  sup = 0.174\n",
      "{whole milk}:  sup = 0.256\n",
      "{other vegetables}:  sup = 0.193\n",
      "{canned beer}:  sup = 0.078\n",
      "{frankfurter}:  sup = 0.059\n",
      "{sausage}:  sup = 0.094\n",
      "{yogurt}:  sup = 0.14\n",
      "{pastry}:  sup = 0.089\n",
      "{margarine}:  sup = 0.059\n",
      "{coffee}:  sup = 0.058\n",
      "{brown bread}:  sup = 0.065\n",
      "{fruit/vegetable juice}:  sup = 0.072\n",
      "{whipped/sour cream}:  sup = 0.072\n",
      "{pork}:  sup = 0.058\n",
      "{rolls/buns}:  sup = 0.184\n",
      "{beef}:  sup = 0.052\n",
      "{whole milk, yogurt}:  sup = 0.056\n",
      "{whole milk, rolls/buns}:  sup = 0.057\n",
      "{whole milk, other vegetables}:  sup = 0.075\n"
     ]
    }
   ],
   "source": [
    "F_005, soporte = apriori.apriori(groceries, min_support=0.05, verbose=True)# support with 0.05"
   ]
  },
  {
   "cell_type": "code",
   "execution_count": 8,
   "metadata": {
    "collapsed": false
   },
   "outputs": [
    {
     "name": "stdout",
     "output_type": "stream",
     "text": [
      "{yogurt} ---> {whole milk}:  conf = 0.402, sup = 0.056\n",
      "{rolls/buns} ---> {whole milk}:  conf = 0.308, sup = 0.057\n",
      "{other vegetables} ---> {whole milk}:  conf = 0.387, sup = 0.075\n",
      "{whole milk} ---> {other vegetables}:  conf = 0.293, sup = 0.075\n"
     ]
    }
   ],
   "source": [
    "H = apriori.generate_rules(F_005, soporte, min_confidence=0.25, verbose=True)\n",
    "# generating general rules with support 0.005 and confidence 0.25 \n"
   ]
  },
  {
   "cell_type": "markdown",
   "metadata": {
    "collapsed": false
   },
   "source": [
    "## 2. Implementación de una regresión “stepwise” con eliminación hacia atrás"
   ]
  },
  {
   "cell_type": "markdown",
   "metadata": {},
   "source": [
    "### Utilizando como referencia el código del algoritmo “stepwise” con selección hacia adelante (Fordward Stepwise Regression) que se encuentra en el archivo “CIF005_02_06_Stepwise.ipynb” realizar una implementación del  del algoritmo con eliminación hacia atrás (Backward Stepwise Regression). En este caso la selección de las variables se realiza empezando con un modelo que utiliza todas la variables disponibles para ir eliminando en cada paso la produce el modelo menos signiﬁcativo. "
   ]
  },
  {
   "cell_type": "code",
   "execution_count": 9,
   "metadata": {
    "collapsed": false
   },
   "outputs": [
    {
     "data": {
      "text/html": [
       "<div>\n",
       "<table border=\"1\" class=\"dataframe\">\n",
       "  <thead>\n",
       "    <tr style=\"text-align: right;\">\n",
       "      <th></th>\n",
       "      <th>fixed acidity</th>\n",
       "      <th>volatile acidity</th>\n",
       "      <th>citric acid</th>\n",
       "      <th>residual sugar</th>\n",
       "      <th>chlorides</th>\n",
       "      <th>free sulfur dioxide</th>\n",
       "      <th>total sulfur dioxide</th>\n",
       "      <th>density</th>\n",
       "      <th>pH</th>\n",
       "      <th>sulphates</th>\n",
       "      <th>alcohol</th>\n",
       "      <th>quality</th>\n",
       "    </tr>\n",
       "  </thead>\n",
       "  <tbody>\n",
       "    <tr>\n",
       "      <th>0</th>\n",
       "      <td>7.0</td>\n",
       "      <td>0.27</td>\n",
       "      <td>0.36</td>\n",
       "      <td>20.7</td>\n",
       "      <td>0.045</td>\n",
       "      <td>45.0</td>\n",
       "      <td>170.0</td>\n",
       "      <td>1.0010</td>\n",
       "      <td>3.00</td>\n",
       "      <td>0.45</td>\n",
       "      <td>8.8</td>\n",
       "      <td>6</td>\n",
       "    </tr>\n",
       "    <tr>\n",
       "      <th>1</th>\n",
       "      <td>6.3</td>\n",
       "      <td>0.30</td>\n",
       "      <td>0.34</td>\n",
       "      <td>1.6</td>\n",
       "      <td>0.049</td>\n",
       "      <td>14.0</td>\n",
       "      <td>132.0</td>\n",
       "      <td>0.9940</td>\n",
       "      <td>3.30</td>\n",
       "      <td>0.49</td>\n",
       "      <td>9.5</td>\n",
       "      <td>6</td>\n",
       "    </tr>\n",
       "    <tr>\n",
       "      <th>2</th>\n",
       "      <td>8.1</td>\n",
       "      <td>0.28</td>\n",
       "      <td>0.40</td>\n",
       "      <td>6.9</td>\n",
       "      <td>0.050</td>\n",
       "      <td>30.0</td>\n",
       "      <td>97.0</td>\n",
       "      <td>0.9951</td>\n",
       "      <td>3.26</td>\n",
       "      <td>0.44</td>\n",
       "      <td>10.1</td>\n",
       "      <td>6</td>\n",
       "    </tr>\n",
       "    <tr>\n",
       "      <th>3</th>\n",
       "      <td>7.2</td>\n",
       "      <td>0.23</td>\n",
       "      <td>0.32</td>\n",
       "      <td>8.5</td>\n",
       "      <td>0.058</td>\n",
       "      <td>47.0</td>\n",
       "      <td>186.0</td>\n",
       "      <td>0.9956</td>\n",
       "      <td>3.19</td>\n",
       "      <td>0.40</td>\n",
       "      <td>9.9</td>\n",
       "      <td>6</td>\n",
       "    </tr>\n",
       "    <tr>\n",
       "      <th>4</th>\n",
       "      <td>7.2</td>\n",
       "      <td>0.23</td>\n",
       "      <td>0.32</td>\n",
       "      <td>8.5</td>\n",
       "      <td>0.058</td>\n",
       "      <td>47.0</td>\n",
       "      <td>186.0</td>\n",
       "      <td>0.9956</td>\n",
       "      <td>3.19</td>\n",
       "      <td>0.40</td>\n",
       "      <td>9.9</td>\n",
       "      <td>6</td>\n",
       "    </tr>\n",
       "  </tbody>\n",
       "</table>\n",
       "</div>"
      ],
      "text/plain": [
       "   fixed acidity  volatile acidity  citric acid  residual sugar  chlorides  \\\n",
       "0            7.0              0.27         0.36            20.7      0.045   \n",
       "1            6.3              0.30         0.34             1.6      0.049   \n",
       "2            8.1              0.28         0.40             6.9      0.050   \n",
       "3            7.2              0.23         0.32             8.5      0.058   \n",
       "4            7.2              0.23         0.32             8.5      0.058   \n",
       "\n",
       "   free sulfur dioxide  total sulfur dioxide  density    pH  sulphates  \\\n",
       "0                 45.0                 170.0   1.0010  3.00       0.45   \n",
       "1                 14.0                 132.0   0.9940  3.30       0.49   \n",
       "2                 30.0                  97.0   0.9951  3.26       0.44   \n",
       "3                 47.0                 186.0   0.9956  3.19       0.40   \n",
       "4                 47.0                 186.0   0.9956  3.19       0.40   \n",
       "\n",
       "   alcohol  quality  \n",
       "0      8.8        6  \n",
       "1      9.5        6  \n",
       "2     10.1        6  \n",
       "3      9.9        6  \n",
       "4      9.9        6  "
      ]
     },
     "execution_count": 9,
     "metadata": {},
     "output_type": "execute_result"
    }
   ],
   "source": [
    "import pandas as pd\n",
    "\n",
    "wine = pd.read_csv('winequality-white.csv',sep=';')\n",
    "wine.head()"
   ]
  },
  {
   "cell_type": "code",
   "execution_count": 10,
   "metadata": {
    "collapsed": true
   },
   "outputs": [],
   "source": [
    "from sklearn.linear_model import LinearRegression\n",
    "from sklearn.cross_validation import train_test_split\n",
    "\n",
    "# Definition of target values and variables which will explain the target\n",
    "target = 'quality'\n",
    "features = list(wine.columns)\n",
    "features.remove('quality')\n",
    "\n",
    "x = wine[features]\n",
    "y = wine[target]\n",
    "\n",
    "# Splitting into training and test set\n",
    "x_train, x_test, y_train, y_test = train_test_split(x, y)"
   ]
  },
  {
   "cell_type": "code",
   "execution_count": 11,
   "metadata": {
    "collapsed": false
   },
   "outputs": [
    {
     "name": "stdout",
     "output_type": "stream",
     "text": [
      "En el paso 0 se ha eliminado la varible chlorides con un error 0.725579046772\n",
      "En el paso 1 se ha eliminado la varible citric acid con un error 0.725579929631\n",
      "En el paso 2 se ha eliminado la varible total sulfur dioxide con un error 0.725610823045\n",
      "En el paso 3 se ha eliminado la varible free sulfur dioxide con un error 0.726364377835\n",
      "En el paso 4 se ha eliminado la varible fixed acidity con un error 0.727605187573\n",
      "En el paso 5 se ha eliminado la varible sulphates con un error 0.730735809896\n",
      "En el paso 6 se ha eliminado la varible density con un error 0.735492912712\n",
      "En el paso 7 se ha eliminado la varible pH con un error 0.738246698764\n",
      "En el paso 8 se ha eliminado la varible residual sugar con un error 0.748757446616\n",
      "En el paso 9 se ha eliminado la varible volatile acidity con un error 0.772572370587\n"
     ]
    }
   ],
   "source": [
    "from sklearn.linear_model import LinearRegression\n",
    "import numpy\n",
    "import math\n",
    "\n",
    "# Modelo para realizar los ajustes\n",
    "model = LinearRegression()\n",
    "\n",
    "feature_order = range(len(features))\n",
    "feature_error = []\n",
    "feature_range = []\n",
    "\n",
    "for i in range(len(features)-1):\n",
    "    idx_try = [val for val in range(len(features)) if val in feature_order]\n",
    "    iter_error = []\n",
    "\n",
    "    for i_try in idx_try:\n",
    "        useRow = feature_order[:]\n",
    "        useRow.remove(i_try)\n",
    "\n",
    "        use_train = x_train[x_train.columns[useRow]]\n",
    "        use_test = x_test[x_train.columns[useRow]]\n",
    "\n",
    "        model.fit(use_train, y_train)\n",
    "        rmsError = numpy.linalg.norm((y_test - model.predict(use_test)), 2)/math.sqrt(len(y_test))\n",
    "        iter_error.append(rmsError)\n",
    "\n",
    "    pos_best = numpy.argmin(iter_error)\n",
    "    feature_order.remove(idx_try[pos_best])\n",
    "    feature_range.append(idx_try[pos_best])\n",
    "    feature_error.append(iter_error[pos_best])\n",
    "\n",
    "for i in range(len(features)-1):\n",
    "    print \"En el paso\", i, \"se ha eliminado la varible\", features[feature_range[i]], \"con un error\", feature_error[i]"
   ]
  },
  {
   "cell_type": "markdown",
   "metadata": {},
   "source": [
    "## 3. Estimación de la supervivencia de los pasajeros del Titanic"
   ]
  },
  {
   "cell_type": "markdown",
   "metadata": {},
   "source": [
    "### Utilizando los datos del archivo “titanic.csv”, que contienen información del pasaje del Titanic, para la creación de un modelo que pueda predecir si un pasajero sobrevive al hundimiento del barco en el momento de embarque. Para esto se han de seleccionar la variables con mayor capacidad de predicción.\n",
    "\n",
    "### Para la creación del modelo no se pueden utilizar las variables “boat” ni “body” ya que estas contienen información posterior al momento del embarque. En el conjunto de datos existes valores NaN en las columnas “age” y “fare”, para eliminar las ﬁlas con estos valores se puede utilizar el siguiente comando: mask\t=\ttitanic[['age',\t'fare']].applymap(lambda\tx:\tmath.isnan(x))\ttitanic\t=\ttitanic[-mask.any(axis\t=\t1)]\n"
   ]
  },
  {
   "cell_type": "code",
   "execution_count": 12,
   "metadata": {
    "collapsed": false
   },
   "outputs": [],
   "source": [
    "import numpy as np\n",
    "import pandas as pd\n",
    "import IPython\n",
    "import sklearn as sk\n",
    "import numpy as np\n",
    "import matplotlib\n",
    "import matplotlib.pyplot as plt\n",
    "import pyparsing\n",
    "import pydot   "
   ]
  },
  {
   "cell_type": "code",
   "execution_count": 13,
   "metadata": {
    "collapsed": true
   },
   "outputs": [],
   "source": [
    "overview = pd.read_csv(\"titanic.csv\")"
   ]
  },
  {
   "cell_type": "code",
   "execution_count": 14,
   "metadata": {
    "collapsed": false
   },
   "outputs": [
    {
     "data": {
      "text/html": [
       "<div>\n",
       "<table border=\"1\" class=\"dataframe\">\n",
       "  <thead>\n",
       "    <tr style=\"text-align: right;\">\n",
       "      <th></th>\n",
       "      <th>pclass</th>\n",
       "      <th>survived</th>\n",
       "      <th>name</th>\n",
       "      <th>sex</th>\n",
       "      <th>age</th>\n",
       "      <th>sibsp</th>\n",
       "      <th>parch</th>\n",
       "      <th>ticket</th>\n",
       "      <th>fare</th>\n",
       "      <th>cabin</th>\n",
       "      <th>embarked</th>\n",
       "      <th>boat</th>\n",
       "      <th>body</th>\n",
       "      <th>home.dest</th>\n",
       "    </tr>\n",
       "  </thead>\n",
       "  <tbody>\n",
       "    <tr>\n",
       "      <th>0</th>\n",
       "      <td>1</td>\n",
       "      <td>1</td>\n",
       "      <td>Allen, Miss. Elisabeth Walton</td>\n",
       "      <td>female</td>\n",
       "      <td>29.00</td>\n",
       "      <td>0</td>\n",
       "      <td>0</td>\n",
       "      <td>24160</td>\n",
       "      <td>211.3375</td>\n",
       "      <td>B5</td>\n",
       "      <td>S</td>\n",
       "      <td>2</td>\n",
       "      <td>NaN</td>\n",
       "      <td>St Louis, MO</td>\n",
       "    </tr>\n",
       "    <tr>\n",
       "      <th>1</th>\n",
       "      <td>1</td>\n",
       "      <td>1</td>\n",
       "      <td>Allison, Master. Hudson Trevor</td>\n",
       "      <td>male</td>\n",
       "      <td>0.92</td>\n",
       "      <td>1</td>\n",
       "      <td>2</td>\n",
       "      <td>113781</td>\n",
       "      <td>151.5500</td>\n",
       "      <td>C22 C26</td>\n",
       "      <td>S</td>\n",
       "      <td>11</td>\n",
       "      <td>NaN</td>\n",
       "      <td>Montreal, PQ / Chesterville, ON</td>\n",
       "    </tr>\n",
       "    <tr>\n",
       "      <th>2</th>\n",
       "      <td>1</td>\n",
       "      <td>0</td>\n",
       "      <td>Allison, Miss. Helen Loraine</td>\n",
       "      <td>female</td>\n",
       "      <td>2.00</td>\n",
       "      <td>1</td>\n",
       "      <td>2</td>\n",
       "      <td>113781</td>\n",
       "      <td>151.5500</td>\n",
       "      <td>C22 C26</td>\n",
       "      <td>S</td>\n",
       "      <td>NaN</td>\n",
       "      <td>NaN</td>\n",
       "      <td>Montreal, PQ / Chesterville, ON</td>\n",
       "    </tr>\n",
       "    <tr>\n",
       "      <th>3</th>\n",
       "      <td>1</td>\n",
       "      <td>0</td>\n",
       "      <td>Allison, Mr. Hudson Joshua Creighton</td>\n",
       "      <td>male</td>\n",
       "      <td>30.00</td>\n",
       "      <td>1</td>\n",
       "      <td>2</td>\n",
       "      <td>113781</td>\n",
       "      <td>151.5500</td>\n",
       "      <td>C22 C26</td>\n",
       "      <td>S</td>\n",
       "      <td>NaN</td>\n",
       "      <td>135.0</td>\n",
       "      <td>Montreal, PQ / Chesterville, ON</td>\n",
       "    </tr>\n",
       "    <tr>\n",
       "      <th>4</th>\n",
       "      <td>1</td>\n",
       "      <td>0</td>\n",
       "      <td>Allison, Mrs. Hudson J C (Bessie Waldo Daniels)</td>\n",
       "      <td>female</td>\n",
       "      <td>25.00</td>\n",
       "      <td>1</td>\n",
       "      <td>2</td>\n",
       "      <td>113781</td>\n",
       "      <td>151.5500</td>\n",
       "      <td>C22 C26</td>\n",
       "      <td>S</td>\n",
       "      <td>NaN</td>\n",
       "      <td>NaN</td>\n",
       "      <td>Montreal, PQ / Chesterville, ON</td>\n",
       "    </tr>\n",
       "  </tbody>\n",
       "</table>\n",
       "</div>"
      ],
      "text/plain": [
       "   pclass  survived                                             name     sex  \\\n",
       "0       1         1                    Allen, Miss. Elisabeth Walton  female   \n",
       "1       1         1                   Allison, Master. Hudson Trevor    male   \n",
       "2       1         0                     Allison, Miss. Helen Loraine  female   \n",
       "3       1         0             Allison, Mr. Hudson Joshua Creighton    male   \n",
       "4       1         0  Allison, Mrs. Hudson J C (Bessie Waldo Daniels)  female   \n",
       "\n",
       "     age  sibsp  parch  ticket      fare    cabin embarked boat   body  \\\n",
       "0  29.00      0      0   24160  211.3375       B5        S    2    NaN   \n",
       "1   0.92      1      2  113781  151.5500  C22 C26        S   11    NaN   \n",
       "2   2.00      1      2  113781  151.5500  C22 C26        S  NaN    NaN   \n",
       "3  30.00      1      2  113781  151.5500  C22 C26        S  NaN  135.0   \n",
       "4  25.00      1      2  113781  151.5500  C22 C26        S  NaN    NaN   \n",
       "\n",
       "                         home.dest  \n",
       "0                     St Louis, MO  \n",
       "1  Montreal, PQ / Chesterville, ON  \n",
       "2  Montreal, PQ / Chesterville, ON  \n",
       "3  Montreal, PQ / Chesterville, ON  \n",
       "4  Montreal, PQ / Chesterville, ON  "
      ]
     },
     "execution_count": 14,
     "metadata": {},
     "output_type": "execute_result"
    }
   ],
   "source": [
    "overview.head()"
   ]
  },
  {
   "cell_type": "code",
   "execution_count": 15,
   "metadata": {
    "collapsed": false
   },
   "outputs": [
    {
     "data": {
      "text/plain": [
       "0    809\n",
       "1    500\n",
       "Name: survived, dtype: int64"
      ]
     },
     "execution_count": 15,
     "metadata": {},
     "output_type": "execute_result"
    }
   ],
   "source": [
    "overview.survived.value_counts()"
   ]
  },
  {
   "cell_type": "code",
   "execution_count": 16,
   "metadata": {
    "collapsed": true
   },
   "outputs": [],
   "source": [
    "import csv\n",
    "with open('titanic.csv', 'rb') as csvfile:\n",
    "    titanic_reader = csv.reader(csvfile, delimiter=',')\n",
    "    \n",
    "    # Header contains feature names\n",
    "    row = titanic_reader.next() \n",
    "    feature_names = np.array(row)\n",
    "    \n",
    "    # Load dataset, and target classes\n",
    "    titanic_X, titanic_y = [], []\n",
    "    for row in titanic_reader:  \n",
    "        titanic_X.append(row)\n",
    "        titanic_y.append(row[1]) # The target value is \"survived\" 2nd column\n",
    "    \n",
    "    titanic_X = np.array(titanic_X)\n",
    "    titanic_y = np.array(titanic_y)\n",
    "\n"
   ]
  },
  {
   "cell_type": "code",
   "execution_count": 17,
   "metadata": {
    "collapsed": false
   },
   "outputs": [
    {
     "data": {
      "text/plain": [
       "array([['1', '1', 'Allen, Miss. Elisabeth Walton', ..., '2', '',\n",
       "        'St Louis, MO'],\n",
       "       ['1', '1', 'Allison, Master. Hudson Trevor', ..., '11', '',\n",
       "        'Montreal, PQ / Chesterville, ON'],\n",
       "       ['1', '0', 'Allison, Miss. Helen Loraine', ..., '', '',\n",
       "        'Montreal, PQ / Chesterville, ON'],\n",
       "       ..., \n",
       "       ['3', '0', 'Zakarian, Mr. Mapriededer', ..., '', '304', ''],\n",
       "       ['3', '0', 'Zakarian, Mr. Ortin', ..., '', '', ''],\n",
       "       ['3', '0', 'Zimmerman, Mr. Leo', ..., '', '', '']], \n",
       "      dtype='|S82')"
      ]
     },
     "execution_count": 17,
     "metadata": {},
     "output_type": "execute_result"
    }
   ],
   "source": [
    "titanic_X # titanic_X is a vector generated from all rows\n"
   ]
  },
  {
   "cell_type": "code",
   "execution_count": 18,
   "metadata": {
    "collapsed": false
   },
   "outputs": [
    {
     "data": {
      "text/plain": [
       "array(['1', '1', '0', ..., '0', '0', '0'], \n",
       "      dtype='|S1')"
      ]
     },
     "execution_count": 18,
     "metadata": {},
     "output_type": "execute_result"
    }
   ],
   "source": [
    "titanic_y # titanic_y is a vector generated from 2nd row, shows whether survived or not."
   ]
  },
  {
   "cell_type": "code",
   "execution_count": 19,
   "metadata": {
    "collapsed": false
   },
   "outputs": [
    {
     "data": {
      "text/plain": [
       "array([809, 500], dtype=int64)"
      ]
     },
     "execution_count": 19,
     "metadata": {},
     "output_type": "execute_result"
    }
   ],
   "source": [
    "# Double checking if all entries are existent\n",
    "count = titanic_y.astype(int)\n",
    "np.bincount(count)"
   ]
  },
  {
   "cell_type": "code",
   "execution_count": 20,
   "metadata": {
    "collapsed": false
   },
   "outputs": [
    {
     "data": {
      "text/plain": [
       "array(['pclass', 'survived', 'name', 'sex', 'age', 'sibsp', 'parch',\n",
       "       'ticket', 'fare', 'cabin', 'embarked', 'boat', 'body', 'home.dest'], \n",
       "      dtype='|S9')"
      ]
     },
     "execution_count": 20,
     "metadata": {},
     "output_type": "execute_result"
    }
   ],
   "source": [
    "feature_names # feature_names are the column names"
   ]
  },
  {
   "cell_type": "code",
   "execution_count": 21,
   "metadata": {
    "collapsed": false
   },
   "outputs": [
    {
     "name": "stdout",
     "output_type": "stream",
     "text": [
      "['pclass' 'survived' 'name' 'sex' 'age' 'sibsp' 'parch' 'ticket' 'fare'\n",
      " 'cabin' 'embarked' 'boat' 'body' 'home.dest'] ['1' '1' 'Allen, Miss. Elisabeth Walton' 'female' '29' '0' '0' '24160'\n",
      " '211.3375' 'B5' 'S' '2' '' 'St Louis, MO'] 1\n"
     ]
    }
   ],
   "source": [
    "print feature_names, titanic_X[0], titanic_y[0] # example of first row"
   ]
  },
  {
   "cell_type": "code",
   "execution_count": 22,
   "metadata": {
    "collapsed": true
   },
   "outputs": [],
   "source": [
    "# There are several feature names, which will not help our prediction. These, are therefore, excluded from the\n",
    "# analysis. For example: name or home destination should not have any impact on whether someone survived \n",
    "# or not."
   ]
  },
  {
   "cell_type": "code",
   "execution_count": 23,
   "metadata": {
    "collapsed": false
   },
   "outputs": [
    {
     "name": "stdout",
     "output_type": "stream",
     "text": [
      "['pclass' 'sex' 'age']\n",
      "['1' 'female' '24'] 1\n"
     ]
    }
   ],
   "source": [
    "# we keep the class, the age and the sex variable. Arguably, one could include 'fare' aswell\n",
    "# , but it should be similar to class\n",
    "titanic_X = titanic_X[:, [0, 3, 4]]\n",
    "feature_names = feature_names[[0, 3, 4]]\n",
    "print feature_names\n",
    "print titanic_X[12], titanic_y[12]"
   ]
  },
  {
   "cell_type": "code",
   "execution_count": 24,
   "metadata": {
    "collapsed": false
   },
   "outputs": [
    {
     "name": "stdout",
     "output_type": "stream",
     "text": [
      "['47' '18' '24' '26' '80' '' '24' '50' '32' '36']\n",
      "['pclass' 'sex' 'age']\n",
      "['1' 'male' ''] 0\n"
     ]
    }
   ],
   "source": [
    "print titanic_X[10:20,2] ## There are missing values in age\n",
    "print feature_names\n",
    "print titanic_X[15], titanic_y[15]\n"
   ]
  },
  {
   "cell_type": "code",
   "execution_count": 25,
   "metadata": {
    "collapsed": false
   },
   "outputs": [],
   "source": [
    "# These should be eliminated and replaced with mean of age."
   ]
  },
  {
   "cell_type": "code",
   "execution_count": 26,
   "metadata": {
    "collapsed": false
   },
   "outputs": [
    {
     "name": "stdout",
     "output_type": "stream",
     "text": [
      "29.8811376673\n"
     ]
    }
   ],
   "source": [
    "ages = titanic_X[:, 2] # generating vector of third column (age)\n",
    "mean_age = np.mean(titanic_X[ages != '', 2].astype(np.float)) # mean_age for vector ages, excluding ''\n",
    "print mean_age\n"
   ]
  },
  {
   "cell_type": "code",
   "execution_count": 27,
   "metadata": {
    "collapsed": false
   },
   "outputs": [
    {
     "name": "stdout",
     "output_type": "stream",
     "text": [
      "30.0\n"
     ]
    }
   ],
   "source": [
    "mean_age_round = mean_age.round(0) # rounding of age\n",
    "print mean_age_round"
   ]
  },
  {
   "cell_type": "code",
   "execution_count": 28,
   "metadata": {
    "collapsed": false
   },
   "outputs": [
    {
     "name": "stdout",
     "output_type": "stream",
     "text": [
      "['pclass' 'sex' 'age']\n",
      "[['1' 'male' '47']\n",
      " ['1' 'female' '18']\n",
      " ['1' 'female' '24']\n",
      " ['1' 'female' '26']\n",
      " ['1' 'male' '80']\n",
      " ['1' 'male' '30.0']]\n",
      "['0' '1' '1' '1' '1' '0']\n"
     ]
    }
   ],
   "source": [
    "titanic_X[titanic_X[:, 2] == '', 2] = mean_age_round # replacing '' with rounded mean of ages\n",
    "print feature_names\n",
    "print titanic_X[10:16]\n",
    "print titanic_y[10:16]"
   ]
  },
  {
   "cell_type": "code",
   "execution_count": 29,
   "metadata": {
    "collapsed": false
   },
   "outputs": [],
   "source": [
    "# The categorical variables 'sex' and 'class' will have to be modified to real values. 'sex' is converted to\n",
    "#a binary value (0=female, 1=male)"
   ]
  },
  {
   "cell_type": "code",
   "execution_count": 30,
   "metadata": {
    "collapsed": false
   },
   "outputs": [
    {
     "name": "stdout",
     "output_type": "stream",
     "text": [
      "Categorical variables: ['female' 'male']\n",
      "Feature names: ['pclass' 'sex' 'age']\n",
      "Features for instance number 15: ['1' 'male' '30.0'] 0\n"
     ]
    }
   ],
   "source": [
    "from sklearn.preprocessing import LabelEncoder\n",
    "enc = LabelEncoder()\n",
    "label_encoder = enc.fit(titanic_X[:, 1])\n",
    "print \"Categorical variables:\", label_encoder.classes_\n",
    "print 'Feature names:' ,feature_names\n",
    "print 'Features for instance number 15:',titanic_X[15], titanic_y[15]\n",
    "\n",
    "\n"
   ]
  },
  {
   "cell_type": "code",
   "execution_count": 31,
   "metadata": {
    "collapsed": true
   },
   "outputs": [],
   "source": [
    "# Tranformation of female and male to 0 and 1"
   ]
  },
  {
   "cell_type": "code",
   "execution_count": 32,
   "metadata": {
    "collapsed": false
   },
   "outputs": [
    {
     "name": "stdout",
     "output_type": "stream",
     "text": [
      "Integer variables: [0 1]\n",
      "Feature names: ['pclass' 'sex' 'age']\n",
      "Features for instance number 15: ['1' '1' '30.0'] 0\n"
     ]
    }
   ],
   "source": [
    "integer_classes = label_encoder.transform(label_encoder.classes_)\n",
    "print \"Integer variables:\", integer_classes\n",
    "t = label_encoder.transform(titanic_X[:, 1])\n",
    "titanic_X[:,1] = t\n",
    "print 'Feature names:',feature_names\n",
    "print 'Features for instance number 15:',titanic_X[15], titanic_y[15]"
   ]
  },
  {
   "cell_type": "code",
   "execution_count": 33,
   "metadata": {
    "collapsed": true
   },
   "outputs": [],
   "source": [
    "# A similiar operation has to be performed for categorical variable 'class'. This time there are three values\n",
    "# '1' , '2' and '3'."
   ]
  },
  {
   "cell_type": "code",
   "execution_count": 34,
   "metadata": {
    "collapsed": false
   },
   "outputs": [
    {
     "name": "stdout",
     "output_type": "stream",
     "text": [
      "Categorical classes: ['1' '2' '3']\n",
      "Feature names: ['pclass' 'sex' 'age']\n",
      "Features for instance number 15: ['1' '1' '30.0'] 0\n",
      "Integer classes: [[0]\n",
      " [1]\n",
      " [2]]\n"
     ]
    }
   ],
   "source": [
    "from sklearn.preprocessing import OneHotEncoder\n",
    "\n",
    "enc = LabelEncoder()\n",
    "label_encoder = enc.fit(titanic_X[:, 0])\n",
    "print \"Categorical classes:\", label_encoder.classes_\n",
    "print 'Feature names:' ,feature_names\n",
    "print 'Features for instance number 15:',titanic_X[15], titanic_y[15]\n",
    "integer_classes = label_encoder.transform(label_encoder.classes_).reshape(3, 1)\n",
    "print \"Integer classes:\", integer_classes"
   ]
  },
  {
   "cell_type": "code",
   "execution_count": 35,
   "metadata": {
    "collapsed": false
   },
   "outputs": [],
   "source": [
    "enc = OneHotEncoder()\n",
    "one_hot_encoder = enc.fit(integer_classes)\n",
    "# First, convert clases to 0-(N-1) integers using label_encoder\n",
    "num_of_rows = titanic_X.shape[0]\n",
    "t = label_encoder.transform(titanic_X[:, 0]).reshape(num_of_rows, 1)\n",
    "# Second, create a sparse matrix with three columns, each one indicating if the instance belongs to the class\n",
    "new_features = one_hot_encoder.transform(t)\n",
    "# Add the new features to titanix_X\n",
    "titanic_X = np.concatenate([titanic_X, new_features.toarray()], axis = 1)\n",
    "#Eliminate converted columns\n",
    "titanic_X = np.delete(titanic_X, [0], 1)\n",
    "# Update feature names\n",
    "feature_names = ['sex', 'age', 'first_class', 'second_class', 'third_class']\n",
    "# Convert to numerical values\n",
    "titanic_X = titanic_X.astype(float)\n",
    "titanic_y = titanic_y.astype(float)\n"
   ]
  },
  {
   "cell_type": "code",
   "execution_count": 36,
   "metadata": {
    "collapsed": false
   },
   "outputs": [
    {
     "name": "stdout",
     "output_type": "stream",
     "text": [
      "Passenger travelling in 1st class\n",
      "['sex', 'age', 'first_class', 'second_class', 'third_class']\n",
      "[  1.  30.   1.   0.   0.]\n",
      "----------\n",
      "Passenger travelling in 2nd class\n",
      "['sex', 'age', 'first_class', 'second_class', 'third_class']\n",
      "[  1.  46.   0.   1.   0.]\n",
      "----------\n",
      "Passenger travelling in 3rd class\n",
      "['sex', 'age', 'first_class', 'second_class', 'third_class']\n",
      "[  1.  30.   0.   0.   1.]\n",
      "----------\n"
     ]
    }
   ],
   "source": [
    "print \"Passenger travelling in 1st class\"\n",
    "print feature_names\n",
    "print titanic_X[15]\n",
    "print \"----------\"\n",
    "print \"Passenger travelling in 2nd class\"\n",
    "print feature_names\n",
    "print titanic_X[500]\n",
    "print \"----------\"\n",
    "print \"Passenger travelling in 3rd class\"\n",
    "print feature_names\n",
    "print titanic_X[1000]\n",
    "print \"----------\""
   ]
  },
  {
   "cell_type": "code",
   "execution_count": 37,
   "metadata": {
    "collapsed": false
   },
   "outputs": [
    {
     "name": "stdout",
     "output_type": "stream",
     "text": [
      "Feature names: ['sex', 'age', 'first_class', 'second_class', 'third_class']\n",
      "Features for instance number 15: [  1.  30.   1.   0.   0.] 0.0\n"
     ]
    }
   ],
   "source": [
    "print 'Feature names:' ,feature_names\n",
    "print 'Features for instance number 15:',titanic_X[15], titanic_y[15]"
   ]
  },
  {
   "cell_type": "markdown",
   "metadata": {
    "collapsed": false
   },
   "source": [
    "### The preparation of the data is done, now the set has to be split in train and test"
   ]
  },
  {
   "cell_type": "code",
   "execution_count": 39,
   "metadata": {
    "collapsed": false
   },
   "outputs": [],
   "source": [
    "from sklearn.cross_validation import train_test_split\n",
    "X_train, X_test, y_train, y_test = train_test_split(titanic_X, titanic_y, test_size=0.25, random_state=30)"
   ]
  },
  {
   "cell_type": "code",
   "execution_count": 62,
   "metadata": {
    "collapsed": true
   },
   "outputs": [],
   "source": [
    "from sklearn import tree\n",
    "clf = tree.DecisionTreeClassifier(criterion='entropy', max_depth=3,min_samples_leaf=6)\n",
    "# max depth sets a limit to the dimensions\n",
    "clf = clf.fit(X_train,y_train)\n",
    "\n"
   ]
  },
  {
   "cell_type": "markdown",
   "metadata": {
    "collapsed": true
   },
   "source": [
    "#### VISUALIZE THE DECISION TREE#####"
   ]
  },
  {
   "cell_type": "code",
   "execution_count": 63,
   "metadata": {
    "collapsed": true
   },
   "outputs": [],
   "source": [
    "# I had to install Graphviz2.38 and add it to the system path\n",
    "# before importing pydot and pyparsing, these version were installed:\n",
    "# pip install pyparsing==1.5.7\n",
    "#pip install pydot==1.0.28, after installation I added them to the top import section. "
   ]
  },
  {
   "cell_type": "code",
   "execution_count": 64,
   "metadata": {
    "collapsed": false
   },
   "outputs": [
    {
     "data": {
      "image/png": "[encoded data removed]",
      "text/plain": [
       "<IPython.core.display.Image object>"
      ]
     },
     "execution_count": 64,
     "metadata": {},
     "output_type": "execute_result"
    }
   ],
   "source": [
    "import StringIO\n",
    "dot_data = StringIO.StringIO() \n",
    "tree.export_graphviz(clf, out_file=dot_data, feature_names=['sex', 'age', 'first_class', 'second_class', 'third_class']) \n",
    "graph = pydot.graph_from_dot_data(dot_data.getvalue()) \n",
    "graph.write_png('titanic.png') \n",
    "from IPython.core.display import Image \n",
    "Image(filename='titanic.png')"
   ]
  },
  {
   "cell_type": "code",
   "execution_count": 43,
   "metadata": {
    "collapsed": true
   },
   "outputs": [],
   "source": [
    "#### According to the decision tree the main criteria (root node) for survival is the sex of the passenger.\n",
    "#### In the left subtree are the female passengers (sex = 0) , in the right subtree the male (sex=1). "
   ]
  },
  {
   "cell_type": "code",
   "execution_count": 44,
   "metadata": {
    "collapsed": true
   },
   "outputs": [],
   "source": [
    "#### At every node you have to ask the corresponding question:\n",
    "#### Let's asume we want to know the survival for a man, 50 years of age and first class\n",
    "#### 1st node: sex <=0.5? No, so you go to the right\n",
    "#### 2nd node: age <= 12.5? No, so you go to the right\n",
    "#### 3rd node: firstclass < 0.5? Yes, so to the legt \n",
    "#### We are at the second last node on the right, as value of died(390) is bigger than survived (60)\n",
    "#### , the passenger would not survive. "
   ]
  },
  {
   "cell_type": "code",
   "execution_count": 45,
   "metadata": {
    "collapsed": false
   },
   "outputs": [],
   "source": [
    "#### Another exmaple: girl, 1 year old, second class\n",
    "#### 1st node: sex <=0.5? Yes, so you go to the left\n",
    "#### 2nd node: thirdclass? No, so you go the right\n",
    "#### 3rd node: age < 1,5? Yes, to the left. \n",
    "#### The girl would survive, as 1 died and 5 survived. \n"
   ]
  },
  {
   "cell_type": "code",
   "execution_count": 69,
   "metadata": {
    "collapsed": false
   },
   "outputs": [
    {
     "name": "stdout",
     "output_type": "stream",
     "text": [
      "[ 0.45607733  0.34955849  0.03090573  0.00527583  0.15818263]\n"
     ]
    }
   ],
   "source": [
    "# Sex ist the most important variable followed by age\n",
    "print dt_classifier.feature_importances_"
   ]
  },
  {
   "cell_type": "markdown",
   "metadata": {
    "collapsed": true
   },
   "source": [
    "### In the following we show the confusion matrix, Accuracy, Precision, Recall, FI and ROC in the training set to check quality"
   ]
  },
  {
   "cell_type": "code",
   "execution_count": 46,
   "metadata": {
    "collapsed": false
   },
   "outputs": [
    {
     "name": "stdout",
     "output_type": "stream",
     "text": [
      "Using matplotlib backend: Qt4Agg\n",
      "Populating the interactive namespace from numpy and matplotlib\n"
     ]
    },
    {
     "name": "stderr",
     "output_type": "stream",
     "text": [
      "WARNING: pylab import has clobbered these variables: ['clf']\n",
      "`%matplotlib` prevents importing * from pylab and numpy\n"
     ]
    }
   ],
   "source": [
    "%pylab\n",
    "%matplotlib inline"
   ]
  },
  {
   "cell_type": "code",
   "execution_count": 47,
   "metadata": {
    "collapsed": false
   },
   "outputs": [],
   "source": [
    "from sklearn.metrics import accuracy_score, auc, confusion_matrix, f1_score, precision_score, recall_score, roc_curve\n",
    "\n",
    "def metricas_modelos(y_true, y_pred):\n",
    "    from sklearn.metrics import accuracy_score, auc, confusion_matrix, f1_score, precision_score, recall_score, roc_curve\n",
    "\n",
    "    # Obtención de matriz de confusión\n",
    "    confusion_matrix = confusion_matrix(y_true, y_pred)\n",
    "\n",
    "    print \"La matriz de confusión es \"\n",
    "    print confusion_matrix\n",
    "\n",
    "    print 'Accuracy:', accuracy_score(y_true, y_pred)\n",
    "    print 'Precision:', precision_score(y_true, y_pred)\n",
    "    print 'Recall:', recall_score(y_true, y_pred)\n",
    "    print 'F1:', f1_score(y_true, y_pred)\n",
    "\n",
    "    false_positive_rate, recall, thresholds = roc_curve(y_true, y_pred)\n",
    "    roc_auc = auc(false_positive_rate, recall)\n",
    "\n",
    "    print 'AUC:', auc(false_positive_rate, recall)\n",
    "\n",
    "    plot(false_positive_rate, recall, 'b')\n",
    "    plot([0, 1], [0, 1], 'r--')\n",
    "    title('AUC = %0.2f' % roc_auc)\n",
    "  \n",
    "# Ejemplo de resultado\n",
    "y_true = [0, 0, 0, 1, 0, 0, 0, 0, 1, 1, 1, 1, 1, 1, 1, 1]\n",
    "y_pred = [0, 1, 0, 0, 1, 0, 0, 0, 1, 0, 1, 1, 1, 1, 0, 1]\n",
    "\n"
   ]
  },
  {
   "cell_type": "code",
   "execution_count": 48,
   "metadata": {
    "collapsed": false
   },
   "outputs": [
    {
     "name": "stdout",
     "output_type": "stream",
     "text": [
      "La matriz de confusión es \n",
      "[[541  56]\n",
      " [ 97 287]]\n",
      "Accuracy: 0.844036697248\n",
      "Precision: 0.836734693878\n",
      "Recall: 0.747395833333\n",
      "F1: 0.78954607978\n",
      "AUC: 0.826796744137\n"
     ]
    },
    {
     "data": {
      "image/png": "[encoded data removed]",
      "text/plain": [
       "<matplotlib.figure.Figure at 0xaf89518>"
      ]
     },
     "metadata": {},
     "output_type": "display_data"
    }
   ],
   "source": [
    "from sklearn.tree import DecisionTreeClassifier\n",
    "\n",
    "dt_classifier = DecisionTreeClassifier().fit(X_train, y_train)\n",
    "y_pred        = dt_classifier.predict(X_train)\n",
    "\n",
    "metricas_modelos(y_train, y_pred)"
   ]
  },
  {
   "cell_type": "markdown",
   "metadata": {},
   "source": [
    "### Quality of the test set"
   ]
  },
  {
   "cell_type": "code",
   "execution_count": 49,
   "metadata": {
    "collapsed": false
   },
   "outputs": [
    {
     "name": "stdout",
     "output_type": "stream",
     "text": [
      "La matriz de confusión es \n",
      "[[184  28]\n",
      " [ 38  78]]\n",
      "Accuracy: 0.798780487805\n",
      "Precision: 0.735849056604\n",
      "Recall: 0.672413793103\n",
      "F1: 0.702702702703\n",
      "AUC: 0.770169160703\n"
     ]
    },
    {
     "data": {
      "image/png": "[encoded data removed]",
      "text/plain": [
       "<matplotlib.figure.Figure at 0xaefec18>"
      ]
     },
     "metadata": {},
     "output_type": "display_data"
    }
   ],
   "source": [
    "y_pred     = dt_classifier.predict(X_test)\n",
    "\n",
    "metricas_modelos(y_test, y_pred)"
   ]
  },
  {
   "cell_type": "markdown",
   "metadata": {},
   "source": [
    "### Testing logistic regression"
   ]
  },
  {
   "cell_type": "code",
   "execution_count": 70,
   "metadata": {
    "collapsed": false
   },
   "outputs": [
    {
     "name": "stdout",
     "output_type": "stream",
     "text": [
      "La matriz de confusión es \n",
      "[[498  99]\n",
      " [122 262]]\n",
      "Accuracy: 0.774719673802\n",
      "Precision: 0.725761772853\n",
      "Recall: 0.682291666667\n",
      "F1: 0.703355704698\n",
      "AUC: 0.758231260469\n"
     ]
    },
    {
     "data": {
      "image/png": "[encoded data removed]",
      "text/plain": [
       "<matplotlib.figure.Figure at 0xc9e30b8>"
      ]
     },
     "metadata": {},
     "output_type": "display_data"
    }
   ],
   "source": [
    "from sklearn.linear_model.logistic import LogisticRegression\n",
    "\n",
    "classifier = LogisticRegression().fit(X_train, y_train)\n",
    "y_pred     = classifier.predict(X_train)\n",
    "\n",
    "metricas_modelos(y_train, y_pred)"
   ]
  },
  {
   "cell_type": "code",
   "execution_count": 71,
   "metadata": {
    "collapsed": false
   },
   "outputs": [
    {
     "name": "stdout",
     "output_type": "stream",
     "text": [
      "La matriz de confusión es \n",
      "[[188  24]\n",
      " [ 36  80]]\n",
      "Accuracy: 0.817073170732\n",
      "Precision: 0.769230769231\n",
      "Recall: 0.689655172414\n",
      "F1: 0.727272727273\n",
      "AUC: 0.788223812622\n"
     ]
    },
    {
     "data": {
      "image/png": "[encoded data removed]",
      "text/plain": [
       "<matplotlib.figure.Figure at 0xcae3cc0>"
      ]
     },
     "metadata": {},
     "output_type": "display_data"
    }
   ],
   "source": [
    "y_pred     = classifier.predict(X_test)\n",
    "\n",
    "metricas_modelos(y_test, y_pred)"
   ]
  },
  {
   "cell_type": "markdown",
   "metadata": {},
   "source": [
    "### Testing random forests"
   ]
  },
  {
   "cell_type": "code",
   "execution_count": 72,
   "metadata": {
    "collapsed": false
   },
   "outputs": [
    {
     "name": "stdout",
     "output_type": "stream",
     "text": [
      "La matriz de confusión es \n",
      "[[559  38]\n",
      " [121 263]]\n",
      "Accuracy: 0.837920489297\n",
      "Precision: 0.873754152824\n",
      "Recall: 0.684895833333\n",
      "F1: 0.767883211679\n",
      "AUC: 0.810622121022\n"
     ]
    },
    {
     "data": {
      "image/png": "[encoded data removed]",
      "text/plain": [
       "<matplotlib.figure.Figure at 0xcd6ef98>"
      ]
     },
     "metadata": {},
     "output_type": "display_data"
    }
   ],
   "source": [
    "from sklearn.ensemble import RandomForestClassifier\n",
    "\n",
    "rf_classifier = RandomForestClassifier().fit(X_train, y_train)\n",
    "y_pred        = rf_classifier.predict(X_train)\n",
    "\n",
    "metricas_modelos(y_train, y_pred)"
   ]
  },
  {
   "cell_type": "code",
   "execution_count": 73,
   "metadata": {
    "collapsed": false
   },
   "outputs": [
    {
     "name": "stdout",
     "output_type": "stream",
     "text": [
      "La matriz de confusión es \n",
      "[[188  24]\n",
      " [ 41  75]]\n",
      "Accuracy: 0.801829268293\n",
      "Precision: 0.757575757576\n",
      "Recall: 0.646551724138\n",
      "F1: 0.697674418605\n",
      "AUC: 0.766672088484\n"
     ]
    },
    {
     "data": {
      "image/png": "[encoded data removed]",
      "text/plain": [
       "<matplotlib.figure.Figure at 0xae2e470>"
      ]
     },
     "metadata": {},
     "output_type": "display_data"
    }
   ],
   "source": [
    "y_pred     = rf_classifier.predict(X_test)\n",
    "\n",
    "metricas_modelos(y_test, y_pred)"
   ]
  },
  {
   "cell_type": "code",
   "execution_count": null,
   "metadata": {
    "collapsed": true
   },
   "outputs": [],
   "source": []
  },
  {
   "cell_type": "code",
   "execution_count": null,
   "metadata": {
    "collapsed": true
   },
   "outputs": [],
   "source": []
  },
  {
   "cell_type": "code",
   "execution_count": null,
   "metadata": {
    "collapsed": true
   },
   "outputs": [],
   "source": []
  },
  {
   "cell_type": "code",
   "execution_count": null,
   "metadata": {
    "collapsed": true
   },
   "outputs": [],
   "source": []
  },
  {
   "cell_type": "code",
   "execution_count": null,
   "metadata": {
    "collapsed": true
   },
   "outputs": [],
   "source": []
  },
  {
   "cell_type": "code",
   "execution_count": null,
   "metadata": {
    "collapsed": true
   },
   "outputs": [],
   "source": []
  }
 ],
 "metadata": {
  "kernelspec": {
   "display_name": "Python 2",
   "language": "python",
   "name": "python2"
  },
  "language_info": {
   "codemirror_mode": {
    "name": "ipython",
    "version": 2
   },
   "file_extension": ".py",
   "mimetype": "text/x-python",
   "name": "python",
   "nbconvert_exporter": "python",
   "pygments_lexer": "ipython2",
   "version": "2.7.11"
  }
 },
 "nbformat": 4,
 "nbformat_minor": 0
}
