{
 "cells": [
  {
   "cell_type": "markdown",
   "metadata": {},
   "source": [
    "### Como os indiqué en clase, en esta prueba abierta de temática libre trata de que hagáis un análisis de un dataset que vosotros seleccionéis (del repositorio de statsmodels, del de R o de cualquier otro que encontréis en Internet). Se valorará la presentación de las ideas de análisis, el uso de la herramienta de los Notebooks, gráficos que sean relevantes y de las bibliotecas del stack científico de Python.\n",
    "\n",
    "\n",
    "\n",
    "\n",
    "### Solo se pide llegar al análisis estadístico básico, no a hacer modelos productivos con aprendizaje automático. No se pretende hacer un estudio estadístico inferencias avanzado sino un estudio exploratorio que muestre hallazgos interesantes en el dataset. Es muy valorable el cómo comuniquéis los hallazgos, por lo que no es cuestión de incluir todos los análisis, sino los que resulten informativos e interesantes, en formatos gráficos o numéricos fáciles de leer y entender."
   ]
  },
  {
   "cell_type": "code",
   "execution_count": 1,
   "metadata": {
    "collapsed": true
   },
   "outputs": [],
   "source": [
    "#****************************************************************************************"
   ]
  },
  {
   "cell_type": "markdown",
   "metadata": {},
   "source": [
    "## Description of Businesscase - Preventing loss of Early Payment Discount"
   ]
  },
  {
   "cell_type": "markdown",
   "metadata": {},
   "source": [
    "#### In several countries (e.g. Germany or Austria) the vendors/seller grants a discount when an invoice is paid until a certain date. This depends on the payment conditions agreed between buyer and seller. As an example:\n",
    "#####  Vendors sends invoice over 1.000 €, if the buyer pays within two weeks, the vendors grants a discount of 2%\n",
    "[Find out more about EPD](http://www.accountingcoach.com/blog/what-is-an-early-payment-discount)"
   ]
  },
  {
   "cell_type": "markdown",
   "metadata": {},
   "source": [
    "#### The following scenario and it's solution approach could be of use in order to not miss out on Early Payment Discount (EPD)\n",
    "##### I've exported a *.csv file from my company's live system of invoice which are posted to the general ledger but not yet paid. \n",
    "##### Invoices are paid once the responsible user accepts a workflow, basically saying that the invoice is good to be paid. \n",
    "##### In case of invoices for which EPD can be claimed, the user should be advised to action on the workflow in order to retain the agreed percentage over the Grossamount of the invoice. \n",
    "##### This notebook could be executed before the weekly payment run of invoices. "
   ]
  },
  {
   "cell_type": "code",
   "execution_count": 2,
   "metadata": {
    "collapsed": true
   },
   "outputs": [],
   "source": [
    "from datetime import timedelta\n",
    "import numpy, StringIO, datetime\n",
    "import pandas as pd\n",
    "import numpy as np"
   ]
  },
  {
   "cell_type": "code",
   "execution_count": 3,
   "metadata": {
    "collapsed": false
   },
   "outputs": [],
   "source": [
    "# Importing csv from Accounts Payable tool:\n",
    "epd = pd.read_csv('PYTEST.csv', sep=';')"
   ]
  },
  {
   "cell_type": "code",
   "execution_count": 4,
   "metadata": {
    "collapsed": false
   },
   "outputs": [
    {
     "data": {
      "text/html": [
       "<div>\n",
       "<table border=\"1\" class=\"dataframe\">\n",
       "  <thead>\n",
       "    <tr style=\"text-align: right;\">\n",
       "      <th></th>\n",
       "      <th>Docnumber</th>\n",
       "      <th>WCprocessor</th>\n",
       "      <th>Email</th>\n",
       "      <th>Baselinedate</th>\n",
       "      <th>Days1</th>\n",
       "      <th>DocDate</th>\n",
       "      <th>FI/MM</th>\n",
       "      <th>Paymentblock</th>\n",
       "      <th>Vendor</th>\n",
       "      <th>Reference</th>\n",
       "      <th>Currency</th>\n",
       "      <th>Gross</th>\n",
       "      <th>Discountamount</th>\n",
       "      <th>Disc.percent1</th>\n",
       "      <th>Termsofpayment</th>\n",
       "      <th>PostingDate</th>\n",
       "      <th>Workflowdescription</th>\n",
       "    </tr>\n",
       "  </thead>\n",
       "  <tbody>\n",
       "    <tr>\n",
       "      <th>0</th>\n",
       "      <td>3323060</td>\n",
       "      <td>KINKHE</td>\n",
       "      <td>test@test.de</td>\n",
       "      <td>28.10.2016</td>\n",
       "      <td>30</td>\n",
       "      <td>28.10.2016</td>\n",
       "      <td>MM</td>\n",
       "      <td>R</td>\n",
       "      <td>1126685</td>\n",
       "      <td>0188/16-AM</td>\n",
       "      <td>EUR</td>\n",
       "      <td>5.596,80</td>\n",
       "      <td>167,90</td>\n",
       "      <td>3,000</td>\n",
       "      <td>YC24</td>\n",
       "      <td>28.10.2016</td>\n",
       "      <td>Goods Receipt</td>\n",
       "    </tr>\n",
       "    <tr>\n",
       "      <th>1</th>\n",
       "      <td>3323058</td>\n",
       "      <td>KINKHE</td>\n",
       "      <td>test@test.de</td>\n",
       "      <td>28.10.2016</td>\n",
       "      <td>30</td>\n",
       "      <td>28.10.2016</td>\n",
       "      <td>MM</td>\n",
       "      <td>R</td>\n",
       "      <td>1126685</td>\n",
       "      <td>0186/16-AM</td>\n",
       "      <td>EUR</td>\n",
       "      <td>3.935,50</td>\n",
       "      <td>118,07</td>\n",
       "      <td>3,000</td>\n",
       "      <td>YC24</td>\n",
       "      <td>28.10.2016</td>\n",
       "      <td>Goods Receipt</td>\n",
       "    </tr>\n",
       "    <tr>\n",
       "      <th>2</th>\n",
       "      <td>3323059</td>\n",
       "      <td>KINKHE</td>\n",
       "      <td>test@test.de</td>\n",
       "      <td>28.10.2016</td>\n",
       "      <td>30</td>\n",
       "      <td>28.10.2016</td>\n",
       "      <td>MM</td>\n",
       "      <td>R</td>\n",
       "      <td>1126685</td>\n",
       "      <td>0187/16-AM</td>\n",
       "      <td>EUR</td>\n",
       "      <td>3.935,50</td>\n",
       "      <td>118,07</td>\n",
       "      <td>3,000</td>\n",
       "      <td>YC24</td>\n",
       "      <td>28.10.2016</td>\n",
       "      <td>Goods Receipt</td>\n",
       "    </tr>\n",
       "    <tr>\n",
       "      <th>3</th>\n",
       "      <td>3323057</td>\n",
       "      <td>KINKHE</td>\n",
       "      <td>test@test.de</td>\n",
       "      <td>27.10.2016</td>\n",
       "      <td>30</td>\n",
       "      <td>27.10.2016</td>\n",
       "      <td>MM</td>\n",
       "      <td>R</td>\n",
       "      <td>1126685</td>\n",
       "      <td>0185/16-AM</td>\n",
       "      <td>EUR</td>\n",
       "      <td>3.207,60</td>\n",
       "      <td>96,23</td>\n",
       "      <td>3,000</td>\n",
       "      <td>YC24</td>\n",
       "      <td>28.10.2016</td>\n",
       "      <td>Goods Receipt</td>\n",
       "    </tr>\n",
       "    <tr>\n",
       "      <th>4</th>\n",
       "      <td>3320693</td>\n",
       "      <td>KINKHE</td>\n",
       "      <td>test@test.de</td>\n",
       "      <td>24.10.2016</td>\n",
       "      <td>10</td>\n",
       "      <td>24.10.2016</td>\n",
       "      <td>MM</td>\n",
       "      <td>R</td>\n",
       "      <td>1093723</td>\n",
       "      <td>9611709159</td>\n",
       "      <td>EUR</td>\n",
       "      <td>1.942,38</td>\n",
       "      <td>38,85</td>\n",
       "      <td>2,000</td>\n",
       "      <td>YD08</td>\n",
       "      <td>27.10.2016</td>\n",
       "      <td>Goods Receipt</td>\n",
       "    </tr>\n",
       "  </tbody>\n",
       "</table>\n",
       "</div>"
      ],
      "text/plain": [
       "   Docnumber WCprocessor         Email Baselinedate  Days1     DocDate FI/MM  \\\n",
       "0    3323060      KINKHE  test@test.de   28.10.2016     30  28.10.2016    MM   \n",
       "1    3323058      KINKHE  test@test.de   28.10.2016     30  28.10.2016    MM   \n",
       "2    3323059      KINKHE  test@test.de   28.10.2016     30  28.10.2016    MM   \n",
       "3    3323057      KINKHE  test@test.de   27.10.2016     30  27.10.2016    MM   \n",
       "4    3320693      KINKHE  test@test.de   24.10.2016     10  24.10.2016    MM   \n",
       "\n",
       "  Paymentblock   Vendor   Reference Currency     Gross Discountamount  \\\n",
       "0            R  1126685  0188/16-AM      EUR  5.596,80         167,90   \n",
       "1            R  1126685  0186/16-AM      EUR  3.935,50         118,07   \n",
       "2            R  1126685  0187/16-AM      EUR  3.935,50         118,07   \n",
       "3            R  1126685  0185/16-AM      EUR  3.207,60          96,23   \n",
       "4            R  1093723  9611709159      EUR  1.942,38          38,85   \n",
       "\n",
       "  Disc.percent1 Termsofpayment PostingDate Workflowdescription  \n",
       "0         3,000           YC24  28.10.2016       Goods Receipt  \n",
       "1         3,000           YC24  28.10.2016       Goods Receipt  \n",
       "2         3,000           YC24  28.10.2016       Goods Receipt  \n",
       "3         3,000           YC24  28.10.2016       Goods Receipt  \n",
       "4         2,000           YD08  27.10.2016       Goods Receipt  "
      ]
     },
     "execution_count": 4,
     "metadata": {},
     "output_type": "execute_result"
    }
   ],
   "source": [
    "epd.head()"
   ]
  },
  {
   "cell_type": "markdown",
   "metadata": {
    "collapsed": false
   },
   "source": [
    "##### Brief explanation of each column"
   ]
  },
  {
   "cell_type": "code",
   "execution_count": 5,
   "metadata": {
    "collapsed": true
   },
   "outputs": [],
   "source": [
    "#'Docnumber' - internal number assigned to the invoice\n",
    "#'WCprocessor' - responsible of approval of invoice (workflow receiver)\n",
    "#'Email' - user's email address, for confidential reason set to generic value 'test@test.de'\n",
    "#'Baselinedate' - internal date when EPD time frame starts \n",
    "#'Days1' - Days how long EPD can be claimed\n",
    "#'DocDate' - Invoice date\n",
    "#'FI/MM' - Not linked to Purchase / linked to Purchaseorder\n",
    "#'Paymentblock' - Type of paymentblock - at the moment all invoices blocked for payment\n",
    "#'Vendor' - Vendornumber \n",
    "#'Reference' - Invoice number\n",
    "#'Currency'\n",
    "#'Gross' - Total amount of invoice\n",
    "#'Discountamount' - Amount of EPD that can be claimed\n",
    "#'Disc.percent1' - Percentage of discount over Grossamount\n",
    "#'Termsofpayment' - internal code for payment conditions\n",
    "#'PostingDate' - Date of posting against GL\n",
    "#'Workflowdescription' - Type of workflow sent to WCprocessor"
   ]
  },
  {
   "cell_type": "code",
   "execution_count": 6,
   "metadata": {
    "collapsed": false
   },
   "outputs": [],
   "source": [
    "#Converts Baselinedate and Postingdate to datetime\n",
    "epd.Baselinedate = pd.to_datetime(epd.Baselinedate)\n",
    "epd.PostingDate = pd.to_datetime(epd.PostingDate)"
   ]
  },
  {
   "cell_type": "code",
   "execution_count": 7,
   "metadata": {
    "collapsed": false
   },
   "outputs": [
    {
     "data": {
      "text/html": [
       "<div>\n",
       "<table border=\"1\" class=\"dataframe\">\n",
       "  <thead>\n",
       "    <tr style=\"text-align: right;\">\n",
       "      <th></th>\n",
       "      <th>Docnumber</th>\n",
       "      <th>WCprocessor</th>\n",
       "      <th>Email</th>\n",
       "      <th>Baselinedate</th>\n",
       "      <th>Days1</th>\n",
       "      <th>DocDate</th>\n",
       "      <th>FI/MM</th>\n",
       "      <th>Paymentblock</th>\n",
       "      <th>Vendor</th>\n",
       "      <th>Reference</th>\n",
       "      <th>Currency</th>\n",
       "      <th>Gross</th>\n",
       "      <th>Discountamount</th>\n",
       "      <th>Disc.percent1</th>\n",
       "      <th>Termsofpayment</th>\n",
       "      <th>PostingDate</th>\n",
       "      <th>Workflowdescription</th>\n",
       "    </tr>\n",
       "  </thead>\n",
       "  <tbody>\n",
       "    <tr>\n",
       "      <th>0</th>\n",
       "      <td>3323060</td>\n",
       "      <td>KINKHE</td>\n",
       "      <td>test@test.de</td>\n",
       "      <td>2016-10-28</td>\n",
       "      <td>30</td>\n",
       "      <td>28.10.2016</td>\n",
       "      <td>MM</td>\n",
       "      <td>R</td>\n",
       "      <td>1126685</td>\n",
       "      <td>0188/16-AM</td>\n",
       "      <td>EUR</td>\n",
       "      <td>5.596,80</td>\n",
       "      <td>167,90</td>\n",
       "      <td>3,000</td>\n",
       "      <td>YC24</td>\n",
       "      <td>2016-10-28</td>\n",
       "      <td>Goods Receipt</td>\n",
       "    </tr>\n",
       "    <tr>\n",
       "      <th>1</th>\n",
       "      <td>3323058</td>\n",
       "      <td>KINKHE</td>\n",
       "      <td>test@test.de</td>\n",
       "      <td>2016-10-28</td>\n",
       "      <td>30</td>\n",
       "      <td>28.10.2016</td>\n",
       "      <td>MM</td>\n",
       "      <td>R</td>\n",
       "      <td>1126685</td>\n",
       "      <td>0186/16-AM</td>\n",
       "      <td>EUR</td>\n",
       "      <td>3.935,50</td>\n",
       "      <td>118,07</td>\n",
       "      <td>3,000</td>\n",
       "      <td>YC24</td>\n",
       "      <td>2016-10-28</td>\n",
       "      <td>Goods Receipt</td>\n",
       "    </tr>\n",
       "    <tr>\n",
       "      <th>2</th>\n",
       "      <td>3323059</td>\n",
       "      <td>KINKHE</td>\n",
       "      <td>test@test.de</td>\n",
       "      <td>2016-10-28</td>\n",
       "      <td>30</td>\n",
       "      <td>28.10.2016</td>\n",
       "      <td>MM</td>\n",
       "      <td>R</td>\n",
       "      <td>1126685</td>\n",
       "      <td>0187/16-AM</td>\n",
       "      <td>EUR</td>\n",
       "      <td>3.935,50</td>\n",
       "      <td>118,07</td>\n",
       "      <td>3,000</td>\n",
       "      <td>YC24</td>\n",
       "      <td>2016-10-28</td>\n",
       "      <td>Goods Receipt</td>\n",
       "    </tr>\n",
       "    <tr>\n",
       "      <th>3</th>\n",
       "      <td>3323057</td>\n",
       "      <td>KINKHE</td>\n",
       "      <td>test@test.de</td>\n",
       "      <td>2016-10-27</td>\n",
       "      <td>30</td>\n",
       "      <td>27.10.2016</td>\n",
       "      <td>MM</td>\n",
       "      <td>R</td>\n",
       "      <td>1126685</td>\n",
       "      <td>0185/16-AM</td>\n",
       "      <td>EUR</td>\n",
       "      <td>3.207,60</td>\n",
       "      <td>96,23</td>\n",
       "      <td>3,000</td>\n",
       "      <td>YC24</td>\n",
       "      <td>2016-10-28</td>\n",
       "      <td>Goods Receipt</td>\n",
       "    </tr>\n",
       "    <tr>\n",
       "      <th>4</th>\n",
       "      <td>3320693</td>\n",
       "      <td>KINKHE</td>\n",
       "      <td>test@test.de</td>\n",
       "      <td>2016-10-24</td>\n",
       "      <td>10</td>\n",
       "      <td>24.10.2016</td>\n",
       "      <td>MM</td>\n",
       "      <td>R</td>\n",
       "      <td>1093723</td>\n",
       "      <td>9611709159</td>\n",
       "      <td>EUR</td>\n",
       "      <td>1.942,38</td>\n",
       "      <td>38,85</td>\n",
       "      <td>2,000</td>\n",
       "      <td>YD08</td>\n",
       "      <td>2016-10-27</td>\n",
       "      <td>Goods Receipt</td>\n",
       "    </tr>\n",
       "  </tbody>\n",
       "</table>\n",
       "</div>"
      ],
      "text/plain": [
       "   Docnumber WCprocessor         Email Baselinedate  Days1     DocDate FI/MM  \\\n",
       "0    3323060      KINKHE  test@test.de   2016-10-28     30  28.10.2016    MM   \n",
       "1    3323058      KINKHE  test@test.de   2016-10-28     30  28.10.2016    MM   \n",
       "2    3323059      KINKHE  test@test.de   2016-10-28     30  28.10.2016    MM   \n",
       "3    3323057      KINKHE  test@test.de   2016-10-27     30  27.10.2016    MM   \n",
       "4    3320693      KINKHE  test@test.de   2016-10-24     10  24.10.2016    MM   \n",
       "\n",
       "  Paymentblock   Vendor   Reference Currency     Gross Discountamount  \\\n",
       "0            R  1126685  0188/16-AM      EUR  5.596,80         167,90   \n",
       "1            R  1126685  0186/16-AM      EUR  3.935,50         118,07   \n",
       "2            R  1126685  0187/16-AM      EUR  3.935,50         118,07   \n",
       "3            R  1126685  0185/16-AM      EUR  3.207,60          96,23   \n",
       "4            R  1093723  9611709159      EUR  1.942,38          38,85   \n",
       "\n",
       "  Disc.percent1 Termsofpayment PostingDate Workflowdescription  \n",
       "0         3,000           YC24  2016-10-28       Goods Receipt  \n",
       "1         3,000           YC24  2016-10-28       Goods Receipt  \n",
       "2         3,000           YC24  2016-10-28       Goods Receipt  \n",
       "3         3,000           YC24  2016-10-28       Goods Receipt  \n",
       "4         2,000           YD08  2016-10-27       Goods Receipt  "
      ]
     },
     "execution_count": 7,
     "metadata": {},
     "output_type": "execute_result"
    }
   ],
   "source": [
    "epd.head()"
   ]
  },
  {
   "cell_type": "markdown",
   "metadata": {},
   "source": [
    "### Calculating the days until when EPD can be claimed"
   ]
  },
  {
   "cell_type": "code",
   "execution_count": 8,
   "metadata": {
    "collapsed": false
   },
   "outputs": [],
   "source": [
    "# Converting Days1 to string\n",
    "epd['Days1'] = epd['Days1'].astype(str)"
   ]
  },
  {
   "cell_type": "code",
   "execution_count": 9,
   "metadata": {
    "collapsed": true
   },
   "outputs": [],
   "source": [
    "# Adding 'D' to make it recognizeable by pd.to_timedelta\n",
    "epd[\"Days1\"] = epd[\"Days1\"] + 'D'"
   ]
  },
  {
   "cell_type": "code",
   "execution_count": 10,
   "metadata": {
    "collapsed": false
   },
   "outputs": [],
   "source": [
    "#Converting to timedelta\n",
    "epd[\"Days1\"] = pd.to_timedelta(epd[\"Days1\"].values)"
   ]
  },
  {
   "cell_type": "code",
   "execution_count": 11,
   "metadata": {
    "collapsed": false
   },
   "outputs": [
    {
     "data": {
      "text/html": [
       "<div>\n",
       "<table border=\"1\" class=\"dataframe\">\n",
       "  <thead>\n",
       "    <tr style=\"text-align: right;\">\n",
       "      <th></th>\n",
       "      <th>Docnumber</th>\n",
       "      <th>WCprocessor</th>\n",
       "      <th>Email</th>\n",
       "      <th>Baselinedate</th>\n",
       "      <th>Days1</th>\n",
       "      <th>DocDate</th>\n",
       "      <th>FI/MM</th>\n",
       "      <th>Paymentblock</th>\n",
       "      <th>Vendor</th>\n",
       "      <th>Reference</th>\n",
       "      <th>Currency</th>\n",
       "      <th>Gross</th>\n",
       "      <th>Discountamount</th>\n",
       "      <th>Disc.percent1</th>\n",
       "      <th>Termsofpayment</th>\n",
       "      <th>PostingDate</th>\n",
       "      <th>Workflowdescription</th>\n",
       "    </tr>\n",
       "  </thead>\n",
       "  <tbody>\n",
       "    <tr>\n",
       "      <th>0</th>\n",
       "      <td>3323060</td>\n",
       "      <td>KINKHE</td>\n",
       "      <td>test@test.de</td>\n",
       "      <td>2016-10-28</td>\n",
       "      <td>30 days</td>\n",
       "      <td>28.10.2016</td>\n",
       "      <td>MM</td>\n",
       "      <td>R</td>\n",
       "      <td>1126685</td>\n",
       "      <td>0188/16-AM</td>\n",
       "      <td>EUR</td>\n",
       "      <td>5.596,80</td>\n",
       "      <td>167,90</td>\n",
       "      <td>3,000</td>\n",
       "      <td>YC24</td>\n",
       "      <td>2016-10-28</td>\n",
       "      <td>Goods Receipt</td>\n",
       "    </tr>\n",
       "    <tr>\n",
       "      <th>1</th>\n",
       "      <td>3323058</td>\n",
       "      <td>KINKHE</td>\n",
       "      <td>test@test.de</td>\n",
       "      <td>2016-10-28</td>\n",
       "      <td>30 days</td>\n",
       "      <td>28.10.2016</td>\n",
       "      <td>MM</td>\n",
       "      <td>R</td>\n",
       "      <td>1126685</td>\n",
       "      <td>0186/16-AM</td>\n",
       "      <td>EUR</td>\n",
       "      <td>3.935,50</td>\n",
       "      <td>118,07</td>\n",
       "      <td>3,000</td>\n",
       "      <td>YC24</td>\n",
       "      <td>2016-10-28</td>\n",
       "      <td>Goods Receipt</td>\n",
       "    </tr>\n",
       "    <tr>\n",
       "      <th>2</th>\n",
       "      <td>3323059</td>\n",
       "      <td>KINKHE</td>\n",
       "      <td>test@test.de</td>\n",
       "      <td>2016-10-28</td>\n",
       "      <td>30 days</td>\n",
       "      <td>28.10.2016</td>\n",
       "      <td>MM</td>\n",
       "      <td>R</td>\n",
       "      <td>1126685</td>\n",
       "      <td>0187/16-AM</td>\n",
       "      <td>EUR</td>\n",
       "      <td>3.935,50</td>\n",
       "      <td>118,07</td>\n",
       "      <td>3,000</td>\n",
       "      <td>YC24</td>\n",
       "      <td>2016-10-28</td>\n",
       "      <td>Goods Receipt</td>\n",
       "    </tr>\n",
       "    <tr>\n",
       "      <th>3</th>\n",
       "      <td>3323057</td>\n",
       "      <td>KINKHE</td>\n",
       "      <td>test@test.de</td>\n",
       "      <td>2016-10-27</td>\n",
       "      <td>30 days</td>\n",
       "      <td>27.10.2016</td>\n",
       "      <td>MM</td>\n",
       "      <td>R</td>\n",
       "      <td>1126685</td>\n",
       "      <td>0185/16-AM</td>\n",
       "      <td>EUR</td>\n",
       "      <td>3.207,60</td>\n",
       "      <td>96,23</td>\n",
       "      <td>3,000</td>\n",
       "      <td>YC24</td>\n",
       "      <td>2016-10-28</td>\n",
       "      <td>Goods Receipt</td>\n",
       "    </tr>\n",
       "    <tr>\n",
       "      <th>4</th>\n",
       "      <td>3320693</td>\n",
       "      <td>KINKHE</td>\n",
       "      <td>test@test.de</td>\n",
       "      <td>2016-10-24</td>\n",
       "      <td>10 days</td>\n",
       "      <td>24.10.2016</td>\n",
       "      <td>MM</td>\n",
       "      <td>R</td>\n",
       "      <td>1093723</td>\n",
       "      <td>9611709159</td>\n",
       "      <td>EUR</td>\n",
       "      <td>1.942,38</td>\n",
       "      <td>38,85</td>\n",
       "      <td>2,000</td>\n",
       "      <td>YD08</td>\n",
       "      <td>2016-10-27</td>\n",
       "      <td>Goods Receipt</td>\n",
       "    </tr>\n",
       "  </tbody>\n",
       "</table>\n",
       "</div>"
      ],
      "text/plain": [
       "   Docnumber WCprocessor         Email Baselinedate   Days1     DocDate FI/MM  \\\n",
       "0    3323060      KINKHE  test@test.de   2016-10-28 30 days  28.10.2016    MM   \n",
       "1    3323058      KINKHE  test@test.de   2016-10-28 30 days  28.10.2016    MM   \n",
       "2    3323059      KINKHE  test@test.de   2016-10-28 30 days  28.10.2016    MM   \n",
       "3    3323057      KINKHE  test@test.de   2016-10-27 30 days  27.10.2016    MM   \n",
       "4    3320693      KINKHE  test@test.de   2016-10-24 10 days  24.10.2016    MM   \n",
       "\n",
       "  Paymentblock   Vendor   Reference Currency     Gross Discountamount  \\\n",
       "0            R  1126685  0188/16-AM      EUR  5.596,80         167,90   \n",
       "1            R  1126685  0186/16-AM      EUR  3.935,50         118,07   \n",
       "2            R  1126685  0187/16-AM      EUR  3.935,50         118,07   \n",
       "3            R  1126685  0185/16-AM      EUR  3.207,60          96,23   \n",
       "4            R  1093723  9611709159      EUR  1.942,38          38,85   \n",
       "\n",
       "  Disc.percent1 Termsofpayment PostingDate Workflowdescription  \n",
       "0         3,000           YC24  2016-10-28       Goods Receipt  \n",
       "1         3,000           YC24  2016-10-28       Goods Receipt  \n",
       "2         3,000           YC24  2016-10-28       Goods Receipt  \n",
       "3         3,000           YC24  2016-10-28       Goods Receipt  \n",
       "4         2,000           YD08  2016-10-27       Goods Receipt  "
      ]
     },
     "execution_count": 11,
     "metadata": {},
     "output_type": "execute_result"
    }
   ],
   "source": [
    "epd.head()"
   ]
  },
  {
   "cell_type": "code",
   "execution_count": 12,
   "metadata": {
    "collapsed": false
   },
   "outputs": [],
   "source": [
    "#Creating column LIMIT, which shows until when EPD can be claimed. \n",
    "#('Baselinedate' - internal date when EPD time frame starts) + (#'Days1' - Days how long EPD can be claimed)\n",
    "epd[\"LIMIT\"] = epd[\"Baselinedate\"] + epd[\"Days1\"]"
   ]
  },
  {
   "cell_type": "markdown",
   "metadata": {},
   "source": [
    "#### Rearranging columns, so that LIMIT is the first"
   ]
  },
  {
   "cell_type": "code",
   "execution_count": 13,
   "metadata": {
    "collapsed": true
   },
   "outputs": [],
   "source": [
    "cols = epd.columns.tolist()\n",
    "cols = cols[-1:] + cols[:-1]\n",
    "epd = epd[cols]"
   ]
  },
  {
   "cell_type": "code",
   "execution_count": 14,
   "metadata": {
    "collapsed": false
   },
   "outputs": [
    {
     "data": {
      "text/html": [
       "<div>\n",
       "<table border=\"1\" class=\"dataframe\">\n",
       "  <thead>\n",
       "    <tr style=\"text-align: right;\">\n",
       "      <th></th>\n",
       "      <th>LIMIT</th>\n",
       "      <th>Docnumber</th>\n",
       "      <th>WCprocessor</th>\n",
       "      <th>Email</th>\n",
       "      <th>Baselinedate</th>\n",
       "      <th>Days1</th>\n",
       "      <th>DocDate</th>\n",
       "      <th>FI/MM</th>\n",
       "      <th>Paymentblock</th>\n",
       "      <th>Vendor</th>\n",
       "      <th>Reference</th>\n",
       "      <th>Currency</th>\n",
       "      <th>Gross</th>\n",
       "      <th>Discountamount</th>\n",
       "      <th>Disc.percent1</th>\n",
       "      <th>Termsofpayment</th>\n",
       "      <th>PostingDate</th>\n",
       "      <th>Workflowdescription</th>\n",
       "    </tr>\n",
       "  </thead>\n",
       "  <tbody>\n",
       "    <tr>\n",
       "      <th>0</th>\n",
       "      <td>2016-11-27</td>\n",
       "      <td>3323060</td>\n",
       "      <td>KINKHE</td>\n",
       "      <td>test@test.de</td>\n",
       "      <td>2016-10-28</td>\n",
       "      <td>30 days</td>\n",
       "      <td>28.10.2016</td>\n",
       "      <td>MM</td>\n",
       "      <td>R</td>\n",
       "      <td>1126685</td>\n",
       "      <td>0188/16-AM</td>\n",
       "      <td>EUR</td>\n",
       "      <td>5.596,80</td>\n",
       "      <td>167,90</td>\n",
       "      <td>3,000</td>\n",
       "      <td>YC24</td>\n",
       "      <td>2016-10-28</td>\n",
       "      <td>Goods Receipt</td>\n",
       "    </tr>\n",
       "    <tr>\n",
       "      <th>1</th>\n",
       "      <td>2016-11-27</td>\n",
       "      <td>3323058</td>\n",
       "      <td>KINKHE</td>\n",
       "      <td>test@test.de</td>\n",
       "      <td>2016-10-28</td>\n",
       "      <td>30 days</td>\n",
       "      <td>28.10.2016</td>\n",
       "      <td>MM</td>\n",
       "      <td>R</td>\n",
       "      <td>1126685</td>\n",
       "      <td>0186/16-AM</td>\n",
       "      <td>EUR</td>\n",
       "      <td>3.935,50</td>\n",
       "      <td>118,07</td>\n",
       "      <td>3,000</td>\n",
       "      <td>YC24</td>\n",
       "      <td>2016-10-28</td>\n",
       "      <td>Goods Receipt</td>\n",
       "    </tr>\n",
       "    <tr>\n",
       "      <th>2</th>\n",
       "      <td>2016-11-27</td>\n",
       "      <td>3323059</td>\n",
       "      <td>KINKHE</td>\n",
       "      <td>test@test.de</td>\n",
       "      <td>2016-10-28</td>\n",
       "      <td>30 days</td>\n",
       "      <td>28.10.2016</td>\n",
       "      <td>MM</td>\n",
       "      <td>R</td>\n",
       "      <td>1126685</td>\n",
       "      <td>0187/16-AM</td>\n",
       "      <td>EUR</td>\n",
       "      <td>3.935,50</td>\n",
       "      <td>118,07</td>\n",
       "      <td>3,000</td>\n",
       "      <td>YC24</td>\n",
       "      <td>2016-10-28</td>\n",
       "      <td>Goods Receipt</td>\n",
       "    </tr>\n",
       "    <tr>\n",
       "      <th>3</th>\n",
       "      <td>2016-11-26</td>\n",
       "      <td>3323057</td>\n",
       "      <td>KINKHE</td>\n",
       "      <td>test@test.de</td>\n",
       "      <td>2016-10-27</td>\n",
       "      <td>30 days</td>\n",
       "      <td>27.10.2016</td>\n",
       "      <td>MM</td>\n",
       "      <td>R</td>\n",
       "      <td>1126685</td>\n",
       "      <td>0185/16-AM</td>\n",
       "      <td>EUR</td>\n",
       "      <td>3.207,60</td>\n",
       "      <td>96,23</td>\n",
       "      <td>3,000</td>\n",
       "      <td>YC24</td>\n",
       "      <td>2016-10-28</td>\n",
       "      <td>Goods Receipt</td>\n",
       "    </tr>\n",
       "    <tr>\n",
       "      <th>4</th>\n",
       "      <td>2016-11-03</td>\n",
       "      <td>3320693</td>\n",
       "      <td>KINKHE</td>\n",
       "      <td>test@test.de</td>\n",
       "      <td>2016-10-24</td>\n",
       "      <td>10 days</td>\n",
       "      <td>24.10.2016</td>\n",
       "      <td>MM</td>\n",
       "      <td>R</td>\n",
       "      <td>1093723</td>\n",
       "      <td>9611709159</td>\n",
       "      <td>EUR</td>\n",
       "      <td>1.942,38</td>\n",
       "      <td>38,85</td>\n",
       "      <td>2,000</td>\n",
       "      <td>YD08</td>\n",
       "      <td>2016-10-27</td>\n",
       "      <td>Goods Receipt</td>\n",
       "    </tr>\n",
       "  </tbody>\n",
       "</table>\n",
       "</div>"
      ],
      "text/plain": [
       "       LIMIT  Docnumber WCprocessor         Email Baselinedate   Days1  \\\n",
       "0 2016-11-27    3323060      KINKHE  test@test.de   2016-10-28 30 days   \n",
       "1 2016-11-27    3323058      KINKHE  test@test.de   2016-10-28 30 days   \n",
       "2 2016-11-27    3323059      KINKHE  test@test.de   2016-10-28 30 days   \n",
       "3 2016-11-26    3323057      KINKHE  test@test.de   2016-10-27 30 days   \n",
       "4 2016-11-03    3320693      KINKHE  test@test.de   2016-10-24 10 days   \n",
       "\n",
       "      DocDate FI/MM Paymentblock   Vendor   Reference Currency     Gross  \\\n",
       "0  28.10.2016    MM            R  1126685  0188/16-AM      EUR  5.596,80   \n",
       "1  28.10.2016    MM            R  1126685  0186/16-AM      EUR  3.935,50   \n",
       "2  28.10.2016    MM            R  1126685  0187/16-AM      EUR  3.935,50   \n",
       "3  27.10.2016    MM            R  1126685  0185/16-AM      EUR  3.207,60   \n",
       "4  24.10.2016    MM            R  1093723  9611709159      EUR  1.942,38   \n",
       "\n",
       "  Discountamount Disc.percent1 Termsofpayment PostingDate Workflowdescription  \n",
       "0         167,90         3,000           YC24  2016-10-28       Goods Receipt  \n",
       "1         118,07         3,000           YC24  2016-10-28       Goods Receipt  \n",
       "2         118,07         3,000           YC24  2016-10-28       Goods Receipt  \n",
       "3          96,23         3,000           YC24  2016-10-28       Goods Receipt  \n",
       "4          38,85         2,000           YD08  2016-10-27       Goods Receipt  "
      ]
     },
     "execution_count": 14,
     "metadata": {},
     "output_type": "execute_result"
    }
   ],
   "source": [
    "#Now LIMIT is the 'sum' of Baselinedate and Days1\n",
    "epd.head()"
   ]
  },
  {
   "cell_type": "code",
   "execution_count": 15,
   "metadata": {
    "collapsed": false
   },
   "outputs": [],
   "source": [
    "#Addine today's date\n",
    "epd[\"today\"] = pd.to_datetime('today')"
   ]
  },
  {
   "cell_type": "markdown",
   "metadata": {},
   "source": [
    "#### Rearranging columns, so that today comes first"
   ]
  },
  {
   "cell_type": "code",
   "execution_count": 16,
   "metadata": {
    "collapsed": false
   },
   "outputs": [],
   "source": [
    "cols = epd.columns.tolist()\n",
    "cols = cols[-1:] + cols[:-1]\n",
    "epd = epd[cols]"
   ]
  },
  {
   "cell_type": "code",
   "execution_count": 17,
   "metadata": {
    "collapsed": false
   },
   "outputs": [
    {
     "data": {
      "text/html": [
       "<div>\n",
       "<table border=\"1\" class=\"dataframe\">\n",
       "  <thead>\n",
       "    <tr style=\"text-align: right;\">\n",
       "      <th></th>\n",
       "      <th>today</th>\n",
       "      <th>LIMIT</th>\n",
       "      <th>Docnumber</th>\n",
       "      <th>WCprocessor</th>\n",
       "      <th>Email</th>\n",
       "      <th>Baselinedate</th>\n",
       "      <th>Days1</th>\n",
       "      <th>DocDate</th>\n",
       "      <th>FI/MM</th>\n",
       "      <th>Paymentblock</th>\n",
       "      <th>Vendor</th>\n",
       "      <th>Reference</th>\n",
       "      <th>Currency</th>\n",
       "      <th>Gross</th>\n",
       "      <th>Discountamount</th>\n",
       "      <th>Disc.percent1</th>\n",
       "      <th>Termsofpayment</th>\n",
       "      <th>PostingDate</th>\n",
       "      <th>Workflowdescription</th>\n",
       "    </tr>\n",
       "  </thead>\n",
       "  <tbody>\n",
       "    <tr>\n",
       "      <th>0</th>\n",
       "      <td>2016-10-30</td>\n",
       "      <td>2016-11-27</td>\n",
       "      <td>3323060</td>\n",
       "      <td>KINKHE</td>\n",
       "      <td>test@test.de</td>\n",
       "      <td>2016-10-28</td>\n",
       "      <td>30 days</td>\n",
       "      <td>28.10.2016</td>\n",
       "      <td>MM</td>\n",
       "      <td>R</td>\n",
       "      <td>1126685</td>\n",
       "      <td>0188/16-AM</td>\n",
       "      <td>EUR</td>\n",
       "      <td>5.596,80</td>\n",
       "      <td>167,90</td>\n",
       "      <td>3,000</td>\n",
       "      <td>YC24</td>\n",
       "      <td>2016-10-28</td>\n",
       "      <td>Goods Receipt</td>\n",
       "    </tr>\n",
       "    <tr>\n",
       "      <th>1</th>\n",
       "      <td>2016-10-30</td>\n",
       "      <td>2016-11-27</td>\n",
       "      <td>3323058</td>\n",
       "      <td>KINKHE</td>\n",
       "      <td>test@test.de</td>\n",
       "      <td>2016-10-28</td>\n",
       "      <td>30 days</td>\n",
       "      <td>28.10.2016</td>\n",
       "      <td>MM</td>\n",
       "      <td>R</td>\n",
       "      <td>1126685</td>\n",
       "      <td>0186/16-AM</td>\n",
       "      <td>EUR</td>\n",
       "      <td>3.935,50</td>\n",
       "      <td>118,07</td>\n",
       "      <td>3,000</td>\n",
       "      <td>YC24</td>\n",
       "      <td>2016-10-28</td>\n",
       "      <td>Goods Receipt</td>\n",
       "    </tr>\n",
       "    <tr>\n",
       "      <th>2</th>\n",
       "      <td>2016-10-30</td>\n",
       "      <td>2016-11-27</td>\n",
       "      <td>3323059</td>\n",
       "      <td>KINKHE</td>\n",
       "      <td>test@test.de</td>\n",
       "      <td>2016-10-28</td>\n",
       "      <td>30 days</td>\n",
       "      <td>28.10.2016</td>\n",
       "      <td>MM</td>\n",
       "      <td>R</td>\n",
       "      <td>1126685</td>\n",
       "      <td>0187/16-AM</td>\n",
       "      <td>EUR</td>\n",
       "      <td>3.935,50</td>\n",
       "      <td>118,07</td>\n",
       "      <td>3,000</td>\n",
       "      <td>YC24</td>\n",
       "      <td>2016-10-28</td>\n",
       "      <td>Goods Receipt</td>\n",
       "    </tr>\n",
       "    <tr>\n",
       "      <th>3</th>\n",
       "      <td>2016-10-30</td>\n",
       "      <td>2016-11-26</td>\n",
       "      <td>3323057</td>\n",
       "      <td>KINKHE</td>\n",
       "      <td>test@test.de</td>\n",
       "      <td>2016-10-27</td>\n",
       "      <td>30 days</td>\n",
       "      <td>27.10.2016</td>\n",
       "      <td>MM</td>\n",
       "      <td>R</td>\n",
       "      <td>1126685</td>\n",
       "      <td>0185/16-AM</td>\n",
       "      <td>EUR</td>\n",
       "      <td>3.207,60</td>\n",
       "      <td>96,23</td>\n",
       "      <td>3,000</td>\n",
       "      <td>YC24</td>\n",
       "      <td>2016-10-28</td>\n",
       "      <td>Goods Receipt</td>\n",
       "    </tr>\n",
       "    <tr>\n",
       "      <th>4</th>\n",
       "      <td>2016-10-30</td>\n",
       "      <td>2016-11-03</td>\n",
       "      <td>3320693</td>\n",
       "      <td>KINKHE</td>\n",
       "      <td>test@test.de</td>\n",
       "      <td>2016-10-24</td>\n",
       "      <td>10 days</td>\n",
       "      <td>24.10.2016</td>\n",
       "      <td>MM</td>\n",
       "      <td>R</td>\n",
       "      <td>1093723</td>\n",
       "      <td>9611709159</td>\n",
       "      <td>EUR</td>\n",
       "      <td>1.942,38</td>\n",
       "      <td>38,85</td>\n",
       "      <td>2,000</td>\n",
       "      <td>YD08</td>\n",
       "      <td>2016-10-27</td>\n",
       "      <td>Goods Receipt</td>\n",
       "    </tr>\n",
       "  </tbody>\n",
       "</table>\n",
       "</div>"
      ],
      "text/plain": [
       "       today      LIMIT  Docnumber WCprocessor         Email Baselinedate  \\\n",
       "0 2016-10-30 2016-11-27    3323060      KINKHE  test@test.de   2016-10-28   \n",
       "1 2016-10-30 2016-11-27    3323058      KINKHE  test@test.de   2016-10-28   \n",
       "2 2016-10-30 2016-11-27    3323059      KINKHE  test@test.de   2016-10-28   \n",
       "3 2016-10-30 2016-11-26    3323057      KINKHE  test@test.de   2016-10-27   \n",
       "4 2016-10-30 2016-11-03    3320693      KINKHE  test@test.de   2016-10-24   \n",
       "\n",
       "    Days1     DocDate FI/MM Paymentblock   Vendor   Reference Currency  \\\n",
       "0 30 days  28.10.2016    MM            R  1126685  0188/16-AM      EUR   \n",
       "1 30 days  28.10.2016    MM            R  1126685  0186/16-AM      EUR   \n",
       "2 30 days  28.10.2016    MM            R  1126685  0187/16-AM      EUR   \n",
       "3 30 days  27.10.2016    MM            R  1126685  0185/16-AM      EUR   \n",
       "4 10 days  24.10.2016    MM            R  1093723  9611709159      EUR   \n",
       "\n",
       "      Gross Discountamount Disc.percent1 Termsofpayment PostingDate  \\\n",
       "0  5.596,80         167,90         3,000           YC24  2016-10-28   \n",
       "1  3.935,50         118,07         3,000           YC24  2016-10-28   \n",
       "2  3.935,50         118,07         3,000           YC24  2016-10-28   \n",
       "3  3.207,60          96,23         3,000           YC24  2016-10-28   \n",
       "4  1.942,38          38,85         2,000           YD08  2016-10-27   \n",
       "\n",
       "  Workflowdescription  \n",
       "0       Goods Receipt  \n",
       "1       Goods Receipt  \n",
       "2       Goods Receipt  \n",
       "3       Goods Receipt  \n",
       "4       Goods Receipt  "
      ]
     },
     "execution_count": 17,
     "metadata": {},
     "output_type": "execute_result"
    }
   ],
   "source": [
    "epd.head()"
   ]
  },
  {
   "cell_type": "code",
   "execution_count": 18,
   "metadata": {
    "collapsed": true
   },
   "outputs": [],
   "source": [
    "# If today is smaller than LIMIT a mail should be sent to the user, so that EPD is not lost.\n",
    "# DROP FALSE FROM TABLE"
   ]
  },
  {
   "cell_type": "code",
   "execution_count": 19,
   "metadata": {
    "collapsed": false
   },
   "outputs": [],
   "source": [
    "# Adding column 'EPDclaimable' this is the case when 'today' is smaller than LIMIT\n",
    "epd[\"EPDclaimable\"] = epd.today < epd.LIMIT"
   ]
  },
  {
   "cell_type": "markdown",
   "metadata": {},
   "source": [
    "#### Rearranging columns, so that EPDclaimable comes first"
   ]
  },
  {
   "cell_type": "code",
   "execution_count": 20,
   "metadata": {
    "collapsed": false
   },
   "outputs": [],
   "source": [
    "#Once again rearranging the Dataframe epd\n",
    "cols = epd.columns.tolist()\n",
    "cols = cols[-1:] + cols[:-1]\n",
    "epd = epd[cols]"
   ]
  },
  {
   "cell_type": "code",
   "execution_count": 21,
   "metadata": {
    "collapsed": false
   },
   "outputs": [
    {
     "data": {
      "text/html": [
       "<div>\n",
       "<table border=\"1\" class=\"dataframe\">\n",
       "  <thead>\n",
       "    <tr style=\"text-align: right;\">\n",
       "      <th></th>\n",
       "      <th>EPDclaimable</th>\n",
       "      <th>today</th>\n",
       "      <th>LIMIT</th>\n",
       "      <th>Docnumber</th>\n",
       "      <th>WCprocessor</th>\n",
       "      <th>Email</th>\n",
       "      <th>Baselinedate</th>\n",
       "      <th>Days1</th>\n",
       "      <th>DocDate</th>\n",
       "      <th>FI/MM</th>\n",
       "      <th>Paymentblock</th>\n",
       "      <th>Vendor</th>\n",
       "      <th>Reference</th>\n",
       "      <th>Currency</th>\n",
       "      <th>Gross</th>\n",
       "      <th>Discountamount</th>\n",
       "      <th>Disc.percent1</th>\n",
       "      <th>Termsofpayment</th>\n",
       "      <th>PostingDate</th>\n",
       "      <th>Workflowdescription</th>\n",
       "    </tr>\n",
       "  </thead>\n",
       "  <tbody>\n",
       "    <tr>\n",
       "      <th>0</th>\n",
       "      <td>True</td>\n",
       "      <td>2016-10-30</td>\n",
       "      <td>2016-11-27</td>\n",
       "      <td>3323060</td>\n",
       "      <td>KINKHE</td>\n",
       "      <td>test@test.de</td>\n",
       "      <td>2016-10-28</td>\n",
       "      <td>30 days</td>\n",
       "      <td>28.10.2016</td>\n",
       "      <td>MM</td>\n",
       "      <td>R</td>\n",
       "      <td>1126685</td>\n",
       "      <td>0188/16-AM</td>\n",
       "      <td>EUR</td>\n",
       "      <td>5.596,80</td>\n",
       "      <td>167,90</td>\n",
       "      <td>3,000</td>\n",
       "      <td>YC24</td>\n",
       "      <td>2016-10-28</td>\n",
       "      <td>Goods Receipt</td>\n",
       "    </tr>\n",
       "    <tr>\n",
       "      <th>1</th>\n",
       "      <td>True</td>\n",
       "      <td>2016-10-30</td>\n",
       "      <td>2016-11-27</td>\n",
       "      <td>3323058</td>\n",
       "      <td>KINKHE</td>\n",
       "      <td>test@test.de</td>\n",
       "      <td>2016-10-28</td>\n",
       "      <td>30 days</td>\n",
       "      <td>28.10.2016</td>\n",
       "      <td>MM</td>\n",
       "      <td>R</td>\n",
       "      <td>1126685</td>\n",
       "      <td>0186/16-AM</td>\n",
       "      <td>EUR</td>\n",
       "      <td>3.935,50</td>\n",
       "      <td>118,07</td>\n",
       "      <td>3,000</td>\n",
       "      <td>YC24</td>\n",
       "      <td>2016-10-28</td>\n",
       "      <td>Goods Receipt</td>\n",
       "    </tr>\n",
       "    <tr>\n",
       "      <th>2</th>\n",
       "      <td>True</td>\n",
       "      <td>2016-10-30</td>\n",
       "      <td>2016-11-27</td>\n",
       "      <td>3323059</td>\n",
       "      <td>KINKHE</td>\n",
       "      <td>test@test.de</td>\n",
       "      <td>2016-10-28</td>\n",
       "      <td>30 days</td>\n",
       "      <td>28.10.2016</td>\n",
       "      <td>MM</td>\n",
       "      <td>R</td>\n",
       "      <td>1126685</td>\n",
       "      <td>0187/16-AM</td>\n",
       "      <td>EUR</td>\n",
       "      <td>3.935,50</td>\n",
       "      <td>118,07</td>\n",
       "      <td>3,000</td>\n",
       "      <td>YC24</td>\n",
       "      <td>2016-10-28</td>\n",
       "      <td>Goods Receipt</td>\n",
       "    </tr>\n",
       "    <tr>\n",
       "      <th>3</th>\n",
       "      <td>True</td>\n",
       "      <td>2016-10-30</td>\n",
       "      <td>2016-11-26</td>\n",
       "      <td>3323057</td>\n",
       "      <td>KINKHE</td>\n",
       "      <td>test@test.de</td>\n",
       "      <td>2016-10-27</td>\n",
       "      <td>30 days</td>\n",
       "      <td>27.10.2016</td>\n",
       "      <td>MM</td>\n",
       "      <td>R</td>\n",
       "      <td>1126685</td>\n",
       "      <td>0185/16-AM</td>\n",
       "      <td>EUR</td>\n",
       "      <td>3.207,60</td>\n",
       "      <td>96,23</td>\n",
       "      <td>3,000</td>\n",
       "      <td>YC24</td>\n",
       "      <td>2016-10-28</td>\n",
       "      <td>Goods Receipt</td>\n",
       "    </tr>\n",
       "    <tr>\n",
       "      <th>4</th>\n",
       "      <td>True</td>\n",
       "      <td>2016-10-30</td>\n",
       "      <td>2016-11-03</td>\n",
       "      <td>3320693</td>\n",
       "      <td>KINKHE</td>\n",
       "      <td>test@test.de</td>\n",
       "      <td>2016-10-24</td>\n",
       "      <td>10 days</td>\n",
       "      <td>24.10.2016</td>\n",
       "      <td>MM</td>\n",
       "      <td>R</td>\n",
       "      <td>1093723</td>\n",
       "      <td>9611709159</td>\n",
       "      <td>EUR</td>\n",
       "      <td>1.942,38</td>\n",
       "      <td>38,85</td>\n",
       "      <td>2,000</td>\n",
       "      <td>YD08</td>\n",
       "      <td>2016-10-27</td>\n",
       "      <td>Goods Receipt</td>\n",
       "    </tr>\n",
       "  </tbody>\n",
       "</table>\n",
       "</div>"
      ],
      "text/plain": [
       "  EPDclaimable      today      LIMIT  Docnumber WCprocessor         Email  \\\n",
       "0         True 2016-10-30 2016-11-27    3323060      KINKHE  test@test.de   \n",
       "1         True 2016-10-30 2016-11-27    3323058      KINKHE  test@test.de   \n",
       "2         True 2016-10-30 2016-11-27    3323059      KINKHE  test@test.de   \n",
       "3         True 2016-10-30 2016-11-26    3323057      KINKHE  test@test.de   \n",
       "4         True 2016-10-30 2016-11-03    3320693      KINKHE  test@test.de   \n",
       "\n",
       "  Baselinedate   Days1     DocDate FI/MM Paymentblock   Vendor   Reference  \\\n",
       "0   2016-10-28 30 days  28.10.2016    MM            R  1126685  0188/16-AM   \n",
       "1   2016-10-28 30 days  28.10.2016    MM            R  1126685  0186/16-AM   \n",
       "2   2016-10-28 30 days  28.10.2016    MM            R  1126685  0187/16-AM   \n",
       "3   2016-10-27 30 days  27.10.2016    MM            R  1126685  0185/16-AM   \n",
       "4   2016-10-24 10 days  24.10.2016    MM            R  1093723  9611709159   \n",
       "\n",
       "  Currency     Gross Discountamount Disc.percent1 Termsofpayment PostingDate  \\\n",
       "0      EUR  5.596,80         167,90         3,000           YC24  2016-10-28   \n",
       "1      EUR  3.935,50         118,07         3,000           YC24  2016-10-28   \n",
       "2      EUR  3.935,50         118,07         3,000           YC24  2016-10-28   \n",
       "3      EUR  3.207,60          96,23         3,000           YC24  2016-10-28   \n",
       "4      EUR  1.942,38          38,85         2,000           YD08  2016-10-27   \n",
       "\n",
       "  Workflowdescription  \n",
       "0       Goods Receipt  \n",
       "1       Goods Receipt  \n",
       "2       Goods Receipt  \n",
       "3       Goods Receipt  \n",
       "4       Goods Receipt  "
      ]
     },
     "execution_count": 21,
     "metadata": {},
     "output_type": "execute_result"
    }
   ],
   "source": [
    "epd.head()"
   ]
  },
  {
   "cell_type": "code",
   "execution_count": 22,
   "metadata": {
    "collapsed": false
   },
   "outputs": [],
   "source": [
    "#When value is 'True' the user should be advised to accept workflow and release for payment.\n",
    "#Then, the EPD can be claimed. \n",
    "#Other lines with value 'False' will be dropped\n",
    "epd = epd[epd.EPDclaimable == True]"
   ]
  },
  {
   "cell_type": "code",
   "execution_count": 23,
   "metadata": {
    "collapsed": false
   },
   "outputs": [
    {
     "data": {
      "text/plain": [
       "array([True], dtype=object)"
      ]
     },
     "execution_count": 23,
     "metadata": {},
     "output_type": "execute_result"
    }
   ],
   "source": [
    "#New dataframe created containing only EPDclaimable == True\n",
    "pd.unique(epd[\"EPDclaimable\"].values.ravel())"
   ]
  },
  {
   "cell_type": "markdown",
   "metadata": {},
   "source": [
    "#### Now, the data is prepared so that the user, who is still pending to approve the workflow, can be contacted.  \n",
    "#### A workflow could also be rejected for exmaple in case of overpricing. Anyhow, an email should be sent to every user to inform about possible loss of EPD. The user will be informed about:\n",
    "* The date until when the invoice should be approved\n",
    "* The discountamount which could be claimed.\n"
   ]
  },
  {
   "cell_type": "code",
   "execution_count": 24,
   "metadata": {
    "collapsed": true
   },
   "outputs": [],
   "source": [
    "# Creating smaller dataframe to test email sending"
   ]
  },
  {
   "cell_type": "code",
   "execution_count": 25,
   "metadata": {
    "collapsed": true
   },
   "outputs": [],
   "source": [
    "epd = epd[0:2]"
   ]
  },
  {
   "cell_type": "code",
   "execution_count": 26,
   "metadata": {
    "collapsed": false
   },
   "outputs": [
    {
     "data": {
      "text/html": [
       "<div>\n",
       "<table border=\"1\" class=\"dataframe\">\n",
       "  <thead>\n",
       "    <tr style=\"text-align: right;\">\n",
       "      <th></th>\n",
       "      <th>EPDclaimable</th>\n",
       "      <th>today</th>\n",
       "      <th>LIMIT</th>\n",
       "      <th>Docnumber</th>\n",
       "      <th>WCprocessor</th>\n",
       "      <th>Email</th>\n",
       "      <th>Baselinedate</th>\n",
       "      <th>Days1</th>\n",
       "      <th>DocDate</th>\n",
       "      <th>FI/MM</th>\n",
       "      <th>Paymentblock</th>\n",
       "      <th>Vendor</th>\n",
       "      <th>Reference</th>\n",
       "      <th>Currency</th>\n",
       "      <th>Gross</th>\n",
       "      <th>Discountamount</th>\n",
       "      <th>Disc.percent1</th>\n",
       "      <th>Termsofpayment</th>\n",
       "      <th>PostingDate</th>\n",
       "      <th>Workflowdescription</th>\n",
       "    </tr>\n",
       "  </thead>\n",
       "  <tbody>\n",
       "    <tr>\n",
       "      <th>0</th>\n",
       "      <td>True</td>\n",
       "      <td>2016-10-30</td>\n",
       "      <td>2016-11-27</td>\n",
       "      <td>3323060</td>\n",
       "      <td>KINKHE</td>\n",
       "      <td>test@test.de</td>\n",
       "      <td>2016-10-28</td>\n",
       "      <td>30 days</td>\n",
       "      <td>28.10.2016</td>\n",
       "      <td>MM</td>\n",
       "      <td>R</td>\n",
       "      <td>1126685</td>\n",
       "      <td>0188/16-AM</td>\n",
       "      <td>EUR</td>\n",
       "      <td>5.596,80</td>\n",
       "      <td>167,90</td>\n",
       "      <td>3,000</td>\n",
       "      <td>YC24</td>\n",
       "      <td>2016-10-28</td>\n",
       "      <td>Goods Receipt</td>\n",
       "    </tr>\n",
       "    <tr>\n",
       "      <th>1</th>\n",
       "      <td>True</td>\n",
       "      <td>2016-10-30</td>\n",
       "      <td>2016-11-27</td>\n",
       "      <td>3323058</td>\n",
       "      <td>KINKHE</td>\n",
       "      <td>test@test.de</td>\n",
       "      <td>2016-10-28</td>\n",
       "      <td>30 days</td>\n",
       "      <td>28.10.2016</td>\n",
       "      <td>MM</td>\n",
       "      <td>R</td>\n",
       "      <td>1126685</td>\n",
       "      <td>0186/16-AM</td>\n",
       "      <td>EUR</td>\n",
       "      <td>3.935,50</td>\n",
       "      <td>118,07</td>\n",
       "      <td>3,000</td>\n",
       "      <td>YC24</td>\n",
       "      <td>2016-10-28</td>\n",
       "      <td>Goods Receipt</td>\n",
       "    </tr>\n",
       "  </tbody>\n",
       "</table>\n",
       "</div>"
      ],
      "text/plain": [
       "  EPDclaimable      today      LIMIT  Docnumber WCprocessor         Email  \\\n",
       "0         True 2016-10-30 2016-11-27    3323060      KINKHE  test@test.de   \n",
       "1         True 2016-10-30 2016-11-27    3323058      KINKHE  test@test.de   \n",
       "\n",
       "  Baselinedate   Days1     DocDate FI/MM Paymentblock   Vendor   Reference  \\\n",
       "0   2016-10-28 30 days  28.10.2016    MM            R  1126685  0188/16-AM   \n",
       "1   2016-10-28 30 days  28.10.2016    MM            R  1126685  0186/16-AM   \n",
       "\n",
       "  Currency     Gross Discountamount Disc.percent1 Termsofpayment PostingDate  \\\n",
       "0      EUR  5.596,80         167,90         3,000           YC24  2016-10-28   \n",
       "1      EUR  3.935,50         118,07         3,000           YC24  2016-10-28   \n",
       "\n",
       "  Workflowdescription  \n",
       "0       Goods Receipt  \n",
       "1       Goods Receipt  "
      ]
     },
     "execution_count": 26,
     "metadata": {},
     "output_type": "execute_result"
    }
   ],
   "source": [
    "epd"
   ]
  },
  {
   "cell_type": "code",
   "execution_count": 27,
   "metadata": {
    "collapsed": false
   },
   "outputs": [
    {
     "name": "stdout",
     "output_type": "stream",
     "text": [
      "Please, type in your test email address markwellings@gmx.de\n"
     ]
    }
   ],
   "source": [
    "# For purposes of testing\n",
    "epd[\"Email\"][0] = str(raw_input(\"Please, type in your test email address \"))"
   ]
  },
  {
   "cell_type": "code",
   "execution_count": 28,
   "metadata": {
    "collapsed": false
   },
   "outputs": [
    {
     "name": "stderr",
     "output_type": "stream",
     "text": [
      "C:\\Users\\Mark\\Anaconda\\lib\\site-packages\\ipykernel\\__main__.py:1: SettingWithCopyWarning: \n",
      "A value is trying to be set on a copy of a slice from a DataFrame\n",
      "\n",
      "See the caveats in the documentation: http://pandas.pydata.org/pandas-docs/stable/indexing.html#indexing-view-versus-copy\n",
      "  if __name__ == '__main__':\n"
     ]
    }
   ],
   "source": [
    "epd[\"Email\"][1] = 'markwellings@campusciff.net'"
   ]
  },
  {
   "cell_type": "code",
   "execution_count": 29,
   "metadata": {
    "collapsed": false
   },
   "outputs": [
    {
     "data": {
      "text/html": [
       "<div>\n",
       "<table border=\"1\" class=\"dataframe\">\n",
       "  <thead>\n",
       "    <tr style=\"text-align: right;\">\n",
       "      <th></th>\n",
       "      <th>EPDclaimable</th>\n",
       "      <th>today</th>\n",
       "      <th>LIMIT</th>\n",
       "      <th>Docnumber</th>\n",
       "      <th>WCprocessor</th>\n",
       "      <th>Email</th>\n",
       "      <th>Baselinedate</th>\n",
       "      <th>Days1</th>\n",
       "      <th>DocDate</th>\n",
       "      <th>FI/MM</th>\n",
       "      <th>Paymentblock</th>\n",
       "      <th>Vendor</th>\n",
       "      <th>Reference</th>\n",
       "      <th>Currency</th>\n",
       "      <th>Gross</th>\n",
       "      <th>Discountamount</th>\n",
       "      <th>Disc.percent1</th>\n",
       "      <th>Termsofpayment</th>\n",
       "      <th>PostingDate</th>\n",
       "      <th>Workflowdescription</th>\n",
       "    </tr>\n",
       "  </thead>\n",
       "  <tbody>\n",
       "    <tr>\n",
       "      <th>0</th>\n",
       "      <td>True</td>\n",
       "      <td>2016-10-30</td>\n",
       "      <td>2016-11-27</td>\n",
       "      <td>3323060</td>\n",
       "      <td>KINKHE</td>\n",
       "      <td>markwellings@gmx.de</td>\n",
       "      <td>2016-10-28</td>\n",
       "      <td>30 days</td>\n",
       "      <td>28.10.2016</td>\n",
       "      <td>MM</td>\n",
       "      <td>R</td>\n",
       "      <td>1126685</td>\n",
       "      <td>0188/16-AM</td>\n",
       "      <td>EUR</td>\n",
       "      <td>5.596,80</td>\n",
       "      <td>167,90</td>\n",
       "      <td>3,000</td>\n",
       "      <td>YC24</td>\n",
       "      <td>2016-10-28</td>\n",
       "      <td>Goods Receipt</td>\n",
       "    </tr>\n",
       "    <tr>\n",
       "      <th>1</th>\n",
       "      <td>True</td>\n",
       "      <td>2016-10-30</td>\n",
       "      <td>2016-11-27</td>\n",
       "      <td>3323058</td>\n",
       "      <td>KINKHE</td>\n",
       "      <td>markwellings@campusciff.net</td>\n",
       "      <td>2016-10-28</td>\n",
       "      <td>30 days</td>\n",
       "      <td>28.10.2016</td>\n",
       "      <td>MM</td>\n",
       "      <td>R</td>\n",
       "      <td>1126685</td>\n",
       "      <td>0186/16-AM</td>\n",
       "      <td>EUR</td>\n",
       "      <td>3.935,50</td>\n",
       "      <td>118,07</td>\n",
       "      <td>3,000</td>\n",
       "      <td>YC24</td>\n",
       "      <td>2016-10-28</td>\n",
       "      <td>Goods Receipt</td>\n",
       "    </tr>\n",
       "  </tbody>\n",
       "</table>\n",
       "</div>"
      ],
      "text/plain": [
       "  EPDclaimable      today      LIMIT  Docnumber WCprocessor  \\\n",
       "0         True 2016-10-30 2016-11-27    3323060      KINKHE   \n",
       "1         True 2016-10-30 2016-11-27    3323058      KINKHE   \n",
       "\n",
       "                         Email Baselinedate   Days1     DocDate FI/MM  \\\n",
       "0          markwellings@gmx.de   2016-10-28 30 days  28.10.2016    MM   \n",
       "1  markwellings@campusciff.net   2016-10-28 30 days  28.10.2016    MM   \n",
       "\n",
       "  Paymentblock   Vendor   Reference Currency     Gross Discountamount  \\\n",
       "0            R  1126685  0188/16-AM      EUR  5.596,80         167,90   \n",
       "1            R  1126685  0186/16-AM      EUR  3.935,50         118,07   \n",
       "\n",
       "  Disc.percent1 Termsofpayment PostingDate Workflowdescription  \n",
       "0         3,000           YC24  2016-10-28       Goods Receipt  \n",
       "1         3,000           YC24  2016-10-28       Goods Receipt  "
      ]
     },
     "execution_count": 29,
     "metadata": {},
     "output_type": "execute_result"
    }
   ],
   "source": [
    "epd"
   ]
  },
  {
   "cell_type": "code",
   "execution_count": 30,
   "metadata": {
    "collapsed": false
   },
   "outputs": [],
   "source": [
    "# Changing format of LIMIT to Day, Month, Year. \n",
    "epd['LIMIT'] = epd['LIMIT'].dt.strftime('%d/%m/%Y')"
   ]
  },
  {
   "cell_type": "code",
   "execution_count": 31,
   "metadata": {
    "collapsed": true
   },
   "outputs": [],
   "source": [
    "import smtplib # importing library to email sending"
   ]
  },
  {
   "cell_type": "code",
   "execution_count": 32,
   "metadata": {
    "collapsed": false
   },
   "outputs": [],
   "source": [
    "import smtplib\n",
    "\n",
    "def sendmail(): # creating definition\n",
    "    from email.mime.multipart import MIMEMultipart\n",
    "    from email.mime.text import MIMEText\n",
    "\n",
    "    # me == my email address\n",
    "    # you == recipient's email address\n",
    "    me = \"Mark Wellings\"\n",
    "    you = email # has to be user mail adress from table\n",
    "    limit_mail = limit\n",
    "    discamount_mail = discamount\n",
    "    docnumber_mail = docnum\n",
    "\n",
    "    # Create message container \n",
    "    msg = MIMEMultipart('alternative')\n",
    "    msg['Subject'] = \"Loss of Early Payment Discount\"\n",
    "    msg['From'] = me\n",
    "    msg['To'] = you\n",
    "\n",
    "    # Create the body of the message.\n",
    "    html = \"\"\"\n",
    "        <html>\n",
    "            <body>\n",
    "            <i><h3>Possible loss of Early Payment Discount</h3></i>\n",
    "            Hi! <p>\n",
    "            Please, take action on invoice with docnumber <b>%s</b> it has to be approved until <em>%s</em> to \n",
    "            claim the Early Payment Discount of <strong>%s %s</strong>. <p>\n",
    "            Thanks very much for your collaboration!\n",
    "            <hr>\n",
    "            </body>\n",
    "        </html>\n",
    "        \"\"\" %(docnum, limit, discamount, curr)\n",
    "\n",
    "    # Record the message\n",
    "    part1 = MIMEText(html, 'html')\n",
    "         \n",
    "\n",
    "    # Attach parts into message container.   \n",
    "    msg.attach(part1)\n",
    "        \n",
    "    # Send the message via local SMTP server.\n",
    "    mail = smtplib.SMTP('smtp.gmail.com', 587)\n",
    "    \n",
    "    mail.ehlo()\n",
    "\n",
    "    mail.starttls()\n",
    "\n",
    "    mail.login('pythontest123new@gmail.com', 'TEST.TEST.123') # Testaccount from which the email is sent\n",
    "    mail.sendmail(me, you, msg.as_string())\n",
    "    mail.quit()"
   ]
  },
  {
   "cell_type": "code",
   "execution_count": 33,
   "metadata": {
    "collapsed": true
   },
   "outputs": [],
   "source": [
    "# Interrating over dataframe and executing definition"
   ]
  },
  {
   "cell_type": "code",
   "execution_count": 34,
   "metadata": {
    "collapsed": false
   },
   "outputs": [],
   "source": [
    "email = epd['Email'].values[0]\n",
    "limit = epd['LIMIT'].values[0]\n",
    "discamount = epd[\"Discountamount\"].values[0]\n",
    "docnum = epd[\"Docnumber\"].values[0]\n",
    "curr = epd[\"Currency\"].values[0]\n",
    "\n",
    "for index, row in epd.iterrows():\n",
    "    email\n",
    "    limit\n",
    "    discamount\n",
    "    sendmail()\n",
    "    email = epd['Email'].values[0+1]\n",
    "    limit = epd['LIMIT'].values[0+1]\n",
    "    discamount = epd[\"Discountamount\"].values[0+1]\n",
    "    docnum = epd[\"Docnumber\"].values[0+1]\n",
    "    curr = epd[\"Currency\"].values[0+1]"
   ]
  },
  {
   "cell_type": "markdown",
   "metadata": {},
   "source": [
    "### Possible improvements\n",
    "* Connecting directly to DB to download file\n"
   ]
  },
  {
   "cell_type": "markdown",
   "metadata": {
    "collapsed": true
   },
   "source": [
    "### Further possible analisis on data could be:\n",
    "* a statiscal analysis based on several criteria like vendor, workflow description or posting date\n",
    "* a machine learning model which releases payment blocks"
   ]
  },
  {
   "cell_type": "code",
   "execution_count": null,
   "metadata": {
    "collapsed": true
   },
   "outputs": [],
   "source": []
  },
  {
   "cell_type": "code",
   "execution_count": null,
   "metadata": {
    "collapsed": true
   },
   "outputs": [],
   "source": []
  },
  {
   "cell_type": "code",
   "execution_count": null,
   "metadata": {
    "collapsed": true
   },
   "outputs": [],
   "source": []
  },
  {
   "cell_type": "code",
   "execution_count": null,
   "metadata": {
    "collapsed": true
   },
   "outputs": [],
   "source": []
  },
  {
   "cell_type": "code",
   "execution_count": null,
   "metadata": {
    "collapsed": true
   },
   "outputs": [],
   "source": []
  }
 ],
 "metadata": {
  "kernelspec": {
   "display_name": "Python 2",
   "language": "python",
   "name": "python2"
  },
  "language_info": {
   "codemirror_mode": {
    "name": "ipython",
    "version": 2
   },
   "file_extension": ".py",
   "mimetype": "text/x-python",
   "name": "python",
   "nbconvert_exporter": "python",
   "pygments_lexer": "ipython2",
   "version": "2.7.11"
  }
 },
 "nbformat": 4,
 "nbformat_minor": 0
}
